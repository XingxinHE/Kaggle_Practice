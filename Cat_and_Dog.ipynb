{
  "nbformat": 4,
  "nbformat_minor": 0,
  "metadata": {
    "colab": {
      "name": "Cat and Dog.ipynb",
      "provenance": [],
      "collapsed_sections": [
        "njLGzV56Cx4N",
        "nB6tmi-IDEq3",
        "6Z-N4PJBLKke",
        "0oWCrdncDNxX"
      ],
      "authorship_tag": "ABX9TyNBOIBwcddE9QH206Qw5L6s",
      "include_colab_link": true
    },
    "kernelspec": {
      "name": "python3",
      "display_name": "Python 3"
    },
    "accelerator": "GPU"
  },
  "cells": [
    {
      "cell_type": "markdown",
      "metadata": {
        "id": "view-in-github",
        "colab_type": "text"
      },
      "source": [
        "<a href=\"https://colab.research.google.com/github/XingxinHE/Kaggle_Practice/blob/master/Cat_and_Dog.ipynb\" target=\"_parent\"><img src=\"https://colab.research.google.com/assets/colab-badge.svg\" alt=\"Open In Colab\"/></a>"
      ]
    },
    {
      "cell_type": "markdown",
      "metadata": {
        "id": "gUqVkBB497cD",
        "colab_type": "text"
      },
      "source": [
        "# Google Drive"
      ]
    },
    {
      "cell_type": "code",
      "metadata": {
        "id": "haq08nk-sIVL",
        "colab_type": "code",
        "colab": {
          "base_uri": "https://localhost:8080/",
          "height": 34
        },
        "outputId": "87d8c873-2620-44e3-f54b-0f69d0b8f58f"
      },
      "source": [
        "from google.colab import drive\n",
        "drive.mount('/content/gdrive')\n",
        "import os, shutil\n",
        "os.chdir(\"/content/gdrive/My Drive/Kaggle/Cat and Dog\")"
      ],
      "execution_count": 2,
      "outputs": [
        {
          "output_type": "stream",
          "text": [
            "Drive already mounted at /content/gdrive; to attempt to forcibly remount, call drive.mount(\"/content/gdrive\", force_remount=True).\n"
          ],
          "name": "stdout"
        }
      ]
    },
    {
      "cell_type": "code",
      "metadata": {
        "id": "aDVMyuofsgyH",
        "colab_type": "code",
        "colab": {
          "base_uri": "https://localhost:8080/",
          "height": 34
        },
        "outputId": "de0f8891-ff94-4a09-a077-38006cdb82ec"
      },
      "source": [
        "ls"
      ],
      "execution_count": 3,
      "outputs": [
        {
          "output_type": "stream",
          "text": [
            "'Cat and Dog.ipynb'   \u001b[0m\u001b[01;34moriginal_data\u001b[0m/   \u001b[01;34msmall_data\u001b[0m/\n"
          ],
          "name": "stdout"
        }
      ]
    },
    {
      "cell_type": "markdown",
      "metadata": {
        "id": "0B7UVSQNCcFZ",
        "colab_type": "text"
      },
      "source": [
        "# 取2000份为小数据集"
      ]
    },
    {
      "cell_type": "markdown",
      "metadata": {
        "id": "T23Nf7NrClLf",
        "colab_type": "text"
      },
      "source": [
        "这一level一旦run 完，后续不用再来。因为这只是为我在Google drive上组织文件及分类图片路径"
      ]
    },
    {
      "cell_type": "markdown",
      "metadata": {
        "id": "FiUwv72t-Bu1",
        "colab_type": "text"
      },
      "source": [
        "## 整理路径"
      ]
    },
    {
      "cell_type": "code",
      "metadata": {
        "id": "bb-oGm3b7r8c",
        "colab_type": "code",
        "colab": {}
      },
      "source": [
        "original_dataset_dir = '/content/gdrive/My Drive/Kaggle/Cat and Dog/original_data/train' #因为这是kaggle的数据集，test是交答案的，我这里只是在full train dataset里找狗猫分别2000来练习\n",
        "base_dir = '/content/gdrive/My Drive/Kaggle/Cat and Dog/small_data'"
      ],
      "execution_count": 10,
      "outputs": []
    },
    {
      "cell_type": "code",
      "metadata": {
        "id": "BQESsFbu8Dc1",
        "colab_type": "code",
        "colab": {}
      },
      "source": [
        "#Create train dir for small data\n",
        "train_dir = os.path.join(base_dir, 'train')\n",
        "os.mkdir(train_dir)"
      ],
      "execution_count": 5,
      "outputs": []
    },
    {
      "cell_type": "code",
      "metadata": {
        "id": "CqQxoEHa8dsh",
        "colab_type": "code",
        "colab": {}
      },
      "source": [
        "#Create validation dir for small data\n",
        "validation_dir = os.path.join(base_dir, 'validation')\n",
        "os.mkdir(validation_dir)"
      ],
      "execution_count": 6,
      "outputs": []
    },
    {
      "cell_type": "code",
      "metadata": {
        "id": "oNzOg9uj8mRb",
        "colab_type": "code",
        "colab": {}
      },
      "source": [
        "#Create test dir for small data\n",
        "test_dir = os.path.join(base_dir, 'test')\n",
        "os.mkdir(test_dir)"
      ],
      "execution_count": 7,
      "outputs": []
    },
    {
      "cell_type": "code",
      "metadata": {
        "id": "937m4W6g87FX",
        "colab_type": "code",
        "colab": {}
      },
      "source": [
        "#Cats and dogs dir in train dir\n",
        "train_cats_dir = os.path.join(train_dir, 'cats')\n",
        "os.mkdir(train_cats_dir)\n",
        "\n",
        "train_dogs_dir = os.path.join(train_dir, 'dogs')\n",
        "os.mkdir(train_dogs_dir)\n",
        "\n",
        "\n",
        "\n",
        "#Cats and dogs dir in validation dir\n",
        "validation_cats_dir = os.path.join(validation_dir, 'cats')\n",
        "os.mkdir(validation_cats_dir)\n",
        "\n",
        "validation_dogs_dir = os.path.join(validation_dir, 'dogs')\n",
        "os.mkdir(validation_dogs_dir)\n",
        "\n",
        "\n",
        "\n",
        "#Cats and dogs dir in test dir\n",
        "test_cats_dir = os.path.join(test_dir, 'cats')\n",
        "os.mkdir(test_cats_dir)\n",
        "\n",
        "test_dogs_dir = os.path.join(test_dir, 'dogs')\n",
        "os.mkdir(test_dogs_dir)"
      ],
      "execution_count": 8,
      "outputs": []
    },
    {
      "cell_type": "markdown",
      "metadata": {
        "id": "njLGzV56Cx4N",
        "colab_type": "text"
      },
      "source": [
        "## 复制粘贴猫图片为训练，验证，测试集"
      ]
    },
    {
      "cell_type": "markdown",
      "metadata": {
        "id": "4WRsFloC-NFb",
        "colab_type": "text"
      },
      "source": [
        "### Copies the first 1,000 cat images to train_cats_dir"
      ]
    },
    {
      "cell_type": "code",
      "metadata": {
        "id": "0JL54t1z-bw2",
        "colab_type": "code",
        "colab": {}
      },
      "source": [
        "#file names\n",
        "fnames = ['cat.{}.jpg'.format(i) for i in range(1000)]\n",
        "for fname in fnames:\n",
        "  src = os.path.join(original_dataset_dir, fname) #source path\n",
        "  dst = os.path.join(train_cats_dir, fname) #destination path\n",
        "  shutil.copyfile(src, dst) #copy and paste"
      ],
      "execution_count": 11,
      "outputs": []
    },
    {
      "cell_type": "markdown",
      "metadata": {
        "id": "HlSsbWXR_70F",
        "colab_type": "text"
      },
      "source": [
        "### Copies the next 500 cat images to validation_cats_dir"
      ]
    },
    {
      "cell_type": "code",
      "metadata": {
        "id": "wVqvESAJACVG",
        "colab_type": "code",
        "colab": {}
      },
      "source": [
        "#file names\n",
        "fnames = ['cat.{}.jpg'.format(i) for i in range(1000,1500)]\n",
        "for fname in fnames:\n",
        "  src = os.path.join(original_dataset_dir, fname) #source path\n",
        "  dst = os.path.join(validation_cats_dir, fname) #destination path\n",
        "  shutil.copyfile(src, dst) #copy and paste"
      ],
      "execution_count": 12,
      "outputs": []
    },
    {
      "cell_type": "markdown",
      "metadata": {
        "id": "auuNOTm7APsA",
        "colab_type": "text"
      },
      "source": [
        "### Copies the next 500 cat images to test_cats_dir"
      ]
    },
    {
      "cell_type": "code",
      "metadata": {
        "id": "1IYo8FvvAWt0",
        "colab_type": "code",
        "colab": {}
      },
      "source": [
        "#file names\n",
        "fnames = ['cat.{}.jpg'.format(i) for i in range(1500,2000)]\n",
        "for fname in fnames:\n",
        "  src = os.path.join(original_dataset_dir, fname) #source path\n",
        "  dst = os.path.join(test_cats_dir, fname) #destination path\n",
        "  shutil.copyfile(src, dst) #copy and paste"
      ],
      "execution_count": 13,
      "outputs": []
    },
    {
      "cell_type": "markdown",
      "metadata": {
        "id": "nB6tmi-IDEq3",
        "colab_type": "text"
      },
      "source": [
        "## 复制粘贴狗的训练，验证，测试集"
      ]
    },
    {
      "cell_type": "markdown",
      "metadata": {
        "colab_type": "text",
        "id": "HfB_blrnBC_K"
      },
      "source": [
        "### Copies the first 1,000 dog images to train_dogs_dir"
      ]
    },
    {
      "cell_type": "code",
      "metadata": {
        "colab_type": "code",
        "id": "ekLvGBPnBC_O",
        "colab": {}
      },
      "source": [
        "#file names\n",
        "fnames = ['dog.{}.jpg'.format(i) for i in range(1000)]\n",
        "for fname in fnames:\n",
        "  src = os.path.join(original_dataset_dir, fname) #source path\n",
        "  dst = os.path.join(train_dogs_dir, fname) #destination path\n",
        "  shutil.copyfile(src, dst) #copy and paste"
      ],
      "execution_count": 14,
      "outputs": []
    },
    {
      "cell_type": "markdown",
      "metadata": {
        "colab_type": "text",
        "id": "4K0HhM-HBC_S"
      },
      "source": [
        "### Copies the next 500 dog images to validation_dogs_dir"
      ]
    },
    {
      "cell_type": "code",
      "metadata": {
        "colab_type": "code",
        "id": "8feNH6cABC_S",
        "colab": {}
      },
      "source": [
        "#file names\n",
        "fnames = ['dog.{}.jpg'.format(i) for i in range(1000,1500)]\n",
        "for fname in fnames:\n",
        "  src = os.path.join(original_dataset_dir, fname) #source path\n",
        "  dst = os.path.join(validation_dogs_dir, fname) #destination path\n",
        "  shutil.copyfile(src, dst) #copy and paste"
      ],
      "execution_count": 15,
      "outputs": []
    },
    {
      "cell_type": "markdown",
      "metadata": {
        "colab_type": "text",
        "id": "V-MaXu76BC_U"
      },
      "source": [
        "### Copies the next 500 dog images to test_dogs_dir"
      ]
    },
    {
      "cell_type": "code",
      "metadata": {
        "colab_type": "code",
        "id": "nryNsy6LBC_U",
        "colab": {}
      },
      "source": [
        "#file names\n",
        "fnames = ['dog.{}.jpg'.format(i) for i in range(1500,2000)]\n",
        "for fname in fnames:\n",
        "  src = os.path.join(original_dataset_dir, fname) #source path\n",
        "  dst = os.path.join(test_dogs_dir, fname) #destination path\n",
        "  shutil.copyfile(src, dst) #copy and paste"
      ],
      "execution_count": 16,
      "outputs": []
    },
    {
      "cell_type": "markdown",
      "metadata": {
        "id": "6Z-N4PJBLKke",
        "colab_type": "text"
      },
      "source": [
        "## Check一下各个路径的文件"
      ]
    },
    {
      "cell_type": "code",
      "metadata": {
        "id": "eD9h9qpmLTP9",
        "colab_type": "code",
        "colab": {
          "base_uri": "https://localhost:8080/",
          "height": 118
        },
        "outputId": "8d07c890-5b2c-474a-e210-6ef4938a6b63"
      },
      "source": [
        "print('total training cat images:', len(os.listdir(train_cats_dir)))\n",
        "print('total training dog images:', len(os.listdir(train_dogs_dir)))\n",
        "print('total validation cat images:', len(os.listdir(validation_cats_dir)))\n",
        "print('total validation dog images:', len(os.listdir(validation_dogs_dir)))\n",
        "print('total test cat images:', len(os.listdir(test_cats_dir)))\n",
        "print('total test dog images:', len(os.listdir(test_dogs_dir)))"
      ],
      "execution_count": 17,
      "outputs": [
        {
          "output_type": "stream",
          "text": [
            "total training cat images: 1000\n",
            "total training dog images: 1000\n",
            "total validation cat images: 500\n",
            "total validation dog images: 500\n",
            "total test cat images: 500\n",
            "total test dog images: 500\n"
          ],
          "name": "stdout"
        }
      ]
    },
    {
      "cell_type": "markdown",
      "metadata": {
        "id": "0oWCrdncDNxX",
        "colab_type": "text"
      },
      "source": [
        "# 搭建模型"
      ]
    },
    {
      "cell_type": "markdown",
      "metadata": {
        "id": "s4-D7IApstEl",
        "colab_type": "text"
      },
      "source": [
        "### Set up"
      ]
    },
    {
      "cell_type": "code",
      "metadata": {
        "id": "MaTFY9SJsl5l",
        "colab_type": "code",
        "colab": {}
      },
      "source": [
        "import tensorflow as tf\n",
        "import numpy as np\n",
        "import pandas as pd\n",
        "from tensorflow import keras\n",
        "from tensorflow.keras import layers\n",
        "from tensorflow.keras import models\n",
        "from keras import optimizers"
      ],
      "execution_count": 19,
      "outputs": []
    },
    {
      "cell_type": "markdown",
      "metadata": {
        "id": "3Jet1RfeLzt4",
        "colab_type": "text"
      },
      "source": [
        "## Build Neural Network"
      ]
    },
    {
      "cell_type": "code",
      "metadata": {
        "id": "uFoNuQ7OLzHR",
        "colab_type": "code",
        "colab": {}
      },
      "source": [
        "model = models.Sequential()\n",
        "model.add(layers.Conv2D(32, (3,3), activation='relu', input_shape=(150, 150, 3)))\n",
        "model.add(layers.MaxPooling2D((2,2)))\n",
        "model.add(layers.Conv2D(64, (3,3), activation='relu'))\n",
        "model.add(layers.MaxPooling2D((2,2)))\n",
        "model.add(layers.Conv2D(128, (3,3), activation='relu'))\n",
        "model.add(layers.MaxPooling2D((2,2)))\n",
        "model.add(layers.Conv2D(128, (3,3), activation='relu'))\n",
        "model.add(layers.MaxPooling2D((2,2)))\n",
        "model.add(layers.Flatten())\n",
        "model.add(layers.Dense(512, activation='relu'))\n",
        "model.add(layers.Dense(1, activation='sigmoid'))"
      ],
      "execution_count": 20,
      "outputs": []
    },
    {
      "cell_type": "markdown",
      "metadata": {
        "id": "5HLgV6h7Mwc_",
        "colab_type": "text"
      },
      "source": [
        "## Inspect the Model"
      ]
    },
    {
      "cell_type": "code",
      "metadata": {
        "id": "GR1bHZJEMvcd",
        "colab_type": "code",
        "colab": {
          "base_uri": "https://localhost:8080/",
          "height": 521
        },
        "outputId": "3580e236-3af2-48cf-d3b8-44370a19d12b"
      },
      "source": [
        "model.summary()"
      ],
      "execution_count": 21,
      "outputs": [
        {
          "output_type": "stream",
          "text": [
            "Model: \"sequential\"\n",
            "_________________________________________________________________\n",
            "Layer (type)                 Output Shape              Param #   \n",
            "=================================================================\n",
            "conv2d (Conv2D)              (None, 148, 148, 32)      896       \n",
            "_________________________________________________________________\n",
            "max_pooling2d (MaxPooling2D) (None, 74, 74, 32)        0         \n",
            "_________________________________________________________________\n",
            "conv2d_1 (Conv2D)            (None, 72, 72, 64)        18496     \n",
            "_________________________________________________________________\n",
            "max_pooling2d_1 (MaxPooling2 (None, 36, 36, 64)        0         \n",
            "_________________________________________________________________\n",
            "conv2d_2 (Conv2D)            (None, 34, 34, 128)       73856     \n",
            "_________________________________________________________________\n",
            "max_pooling2d_2 (MaxPooling2 (None, 17, 17, 128)       0         \n",
            "_________________________________________________________________\n",
            "conv2d_3 (Conv2D)            (None, 15, 15, 128)       147584    \n",
            "_________________________________________________________________\n",
            "max_pooling2d_3 (MaxPooling2 (None, 7, 7, 128)         0         \n",
            "_________________________________________________________________\n",
            "flatten (Flatten)            (None, 6272)              0         \n",
            "_________________________________________________________________\n",
            "dense (Dense)                (None, 512)               3211776   \n",
            "_________________________________________________________________\n",
            "dense_1 (Dense)              (None, 1)                 513       \n",
            "=================================================================\n",
            "Total params: 3,453,121\n",
            "Trainable params: 3,453,121\n",
            "Non-trainable params: 0\n",
            "_________________________________________________________________\n"
          ],
          "name": "stdout"
        }
      ]
    },
    {
      "cell_type": "markdown",
      "metadata": {
        "id": "MWPxBJF4M3Gg",
        "colab_type": "text"
      },
      "source": [
        "## Compile the model"
      ]
    },
    {
      "cell_type": "code",
      "metadata": {
        "id": "_srSIhHLMzDu",
        "colab_type": "code",
        "colab": {}
      },
      "source": [
        "model.compile(loss='binary_crossentropy',\n",
        "       optimizer = optimizers.RMSprop(lr=1e-4),\n",
        "       metrics=['acc'])"
      ],
      "execution_count": 22,
      "outputs": []
    },
    {
      "cell_type": "markdown",
      "metadata": {
        "id": "ueCAOVlyNWwi",
        "colab_type": "text"
      },
      "source": [
        "# 数据预处理"
      ]
    },
    {
      "cell_type": "markdown",
      "metadata": {
        "id": "47uEYy1INaiY",
        "colab_type": "text"
      },
      "source": [
        "现在在路径里面的文件都是图片格式，要把它转成数字才可以被训练"
      ]
    },
    {
      "cell_type": "markdown",
      "metadata": {
        "id": "FJlyCJWXNkqq",
        "colab_type": "text"
      },
      "source": [
        "1. 读取图片\n",
        "\n",
        "2. 将JPEG变成RGB三通道\n",
        "\n",
        "3. 转成浮点tensor\n",
        "\n",
        "4. 从0-255变成0-1"
      ]
    },
    {
      "cell_type": "markdown",
      "metadata": {
        "id": "Yp0IDvuNN2MD",
        "colab_type": "text"
      },
      "source": [
        "Keras拥有上述功能，很方便！"
      ]
    },
    {
      "cell_type": "code",
      "metadata": {
        "id": "UYDZanlINZ0w",
        "colab_type": "code",
        "colab": {}
      },
      "source": [
        "from keras.preprocessing.image import ImageDataGenerator"
      ],
      "execution_count": 23,
      "outputs": []
    },
    {
      "cell_type": "code",
      "metadata": {
        "id": "lzjijy49N9qJ",
        "colab_type": "code",
        "colab": {}
      },
      "source": [
        "#转成0-1\n",
        "train_datagen = ImageDataGenerator(rescale=1./255)\n",
        "test_datagen = ImageDataGenerator(rescale=1./255)"
      ],
      "execution_count": 24,
      "outputs": []
    },
    {
      "cell_type": "code",
      "metadata": {
        "id": "Yq98N7GJOKAq",
        "colab_type": "code",
        "colab": {
          "base_uri": "https://localhost:8080/",
          "height": 34
        },
        "outputId": "408cbae2-75b9-4847-9872-956550e28db6"
      },
      "source": [
        "train_generator = train_datagen.flow_from_directory(\n",
        "    train_dir, #目标路径\n",
        "    target_size=(150,150), #缩小至150*150\n",
        "    batch_size=20,\n",
        "    class_mode='binary' #因为我们的损失函数是binary_crossentropy\n",
        ")"
      ],
      "execution_count": 26,
      "outputs": [
        {
          "output_type": "stream",
          "text": [
            "Found 2000 images belonging to 2 classes.\n"
          ],
          "name": "stdout"
        }
      ]
    },
    {
      "cell_type": "code",
      "metadata": {
        "id": "EkzJXQl0O600",
        "colab_type": "code",
        "colab": {
          "base_uri": "https://localhost:8080/",
          "height": 34
        },
        "outputId": "21c152eb-6cd0-4636-d2c1-52eb11a482a6"
      },
      "source": [
        "validation_generator = train_datagen.flow_from_directory(\n",
        "    validation_dir, #目标路径\n",
        "    target_size=(150,150), #缩小至150*150\n",
        "    batch_size=20,\n",
        "    class_mode='binary' #因为我们的损失函数是binary_crossentropy\n",
        ")"
      ],
      "execution_count": 27,
      "outputs": [
        {
          "output_type": "stream",
          "text": [
            "Found 1000 images belonging to 2 classes.\n"
          ],
          "name": "stdout"
        }
      ]
    },
    {
      "cell_type": "markdown",
      "metadata": {
        "id": "D18vKZO3R243",
        "colab_type": "text"
      },
      "source": [
        "# 路径合集"
      ]
    },
    {
      "cell_type": "markdown",
      "metadata": {
        "id": "kMWExEHsR5yB",
        "colab_type": "text"
      },
      "source": [
        "因为我用的是Google colab，前面的路径是只要一创建就有了，但是这个变量每次重启notebook就会丢失，所以我是打出，然后再hard-code他们"
      ]
    },
    {
      "cell_type": "code",
      "metadata": {
        "id": "vZVGGgqaQKF7",
        "colab_type": "code",
        "colab": {
          "base_uri": "https://localhost:8080/",
          "height": 35
        },
        "outputId": "1d86ffa2-05d0-440b-c323-2b225680bb38"
      },
      "source": [
        "train_dir"
      ],
      "execution_count": 28,
      "outputs": [
        {
          "output_type": "execute_result",
          "data": {
            "application/vnd.google.colaboratory.intrinsic+json": {
              "type": "string"
            },
            "text/plain": [
              "'/content/gdrive/My Drive/Kaggle/Cat and Dog/small_data/train'"
            ]
          },
          "metadata": {
            "tags": []
          },
          "execution_count": 28
        }
      ]
    },
    {
      "cell_type": "code",
      "metadata": {
        "id": "w8tUnQe2QLjD",
        "colab_type": "code",
        "colab": {
          "base_uri": "https://localhost:8080/",
          "height": 35
        },
        "outputId": "af70e27c-4c77-49c9-ea14-af28d7713126"
      },
      "source": [
        "validation_dir"
      ],
      "execution_count": 29,
      "outputs": [
        {
          "output_type": "execute_result",
          "data": {
            "application/vnd.google.colaboratory.intrinsic+json": {
              "type": "string"
            },
            "text/plain": [
              "'/content/gdrive/My Drive/Kaggle/Cat and Dog/small_data/validation'"
            ]
          },
          "metadata": {
            "tags": []
          },
          "execution_count": 29
        }
      ]
    },
    {
      "cell_type": "code",
      "metadata": {
        "id": "PkwtHFMFQPYF",
        "colab_type": "code",
        "colab": {
          "base_uri": "https://localhost:8080/",
          "height": 35
        },
        "outputId": "f05346e0-0342-43ae-bd22-37825fc26398"
      },
      "source": [
        "test_dir"
      ],
      "execution_count": 30,
      "outputs": [
        {
          "output_type": "execute_result",
          "data": {
            "application/vnd.google.colaboratory.intrinsic+json": {
              "type": "string"
            },
            "text/plain": [
              "'/content/gdrive/My Drive/Kaggle/Cat and Dog/small_data/test'"
            ]
          },
          "metadata": {
            "tags": []
          },
          "execution_count": 30
        }
      ]
    },
    {
      "cell_type": "code",
      "metadata": {
        "id": "n4q__W1mRkGK",
        "colab_type": "code",
        "colab": {
          "base_uri": "https://localhost:8080/",
          "height": 35
        },
        "outputId": "c70a920b-5bd4-4e42-9639-4345003ba536"
      },
      "source": [
        "train_cats_dir"
      ],
      "execution_count": 32,
      "outputs": [
        {
          "output_type": "execute_result",
          "data": {
            "application/vnd.google.colaboratory.intrinsic+json": {
              "type": "string"
            },
            "text/plain": [
              "'/content/gdrive/My Drive/Kaggle/Cat and Dog/small_data/train/cats'"
            ]
          },
          "metadata": {
            "tags": []
          },
          "execution_count": 32
        }
      ]
    },
    {
      "cell_type": "code",
      "metadata": {
        "id": "Bmp8KnRrRpwZ",
        "colab_type": "code",
        "colab": {
          "base_uri": "https://localhost:8080/",
          "height": 35
        },
        "outputId": "4fffd2f6-335b-40e3-fea4-b323d87e71c4"
      },
      "source": [
        "train_dogs_dir"
      ],
      "execution_count": 33,
      "outputs": [
        {
          "output_type": "execute_result",
          "data": {
            "application/vnd.google.colaboratory.intrinsic+json": {
              "type": "string"
            },
            "text/plain": [
              "'/content/gdrive/My Drive/Kaggle/Cat and Dog/small_data/train/dogs'"
            ]
          },
          "metadata": {
            "tags": []
          },
          "execution_count": 33
        }
      ]
    },
    {
      "cell_type": "code",
      "metadata": {
        "id": "BEiRNf8hRqKK",
        "colab_type": "code",
        "colab": {
          "base_uri": "https://localhost:8080/",
          "height": 35
        },
        "outputId": "24790ee5-b22e-4aa1-b325-e41318cb9f52"
      },
      "source": [
        "validation_cats_dir"
      ],
      "execution_count": 34,
      "outputs": [
        {
          "output_type": "execute_result",
          "data": {
            "application/vnd.google.colaboratory.intrinsic+json": {
              "type": "string"
            },
            "text/plain": [
              "'/content/gdrive/My Drive/Kaggle/Cat and Dog/small_data/validation/cats'"
            ]
          },
          "metadata": {
            "tags": []
          },
          "execution_count": 34
        }
      ]
    },
    {
      "cell_type": "code",
      "metadata": {
        "id": "qTfe-VaKRqmy",
        "colab_type": "code",
        "colab": {
          "base_uri": "https://localhost:8080/",
          "height": 35
        },
        "outputId": "d5c63fa7-e473-471c-cc1f-73b14fbb0386"
      },
      "source": [
        "validation_dogs_dir"
      ],
      "execution_count": 35,
      "outputs": [
        {
          "output_type": "execute_result",
          "data": {
            "application/vnd.google.colaboratory.intrinsic+json": {
              "type": "string"
            },
            "text/plain": [
              "'/content/gdrive/My Drive/Kaggle/Cat and Dog/small_data/validation/dogs'"
            ]
          },
          "metadata": {
            "tags": []
          },
          "execution_count": 35
        }
      ]
    },
    {
      "cell_type": "code",
      "metadata": {
        "id": "F5yO8c2TRqC5",
        "colab_type": "code",
        "colab": {
          "base_uri": "https://localhost:8080/",
          "height": 35
        },
        "outputId": "4c91c761-20d5-4bc8-f696-f38daaec5dc8"
      },
      "source": [
        "test_cats_dir"
      ],
      "execution_count": 36,
      "outputs": [
        {
          "output_type": "execute_result",
          "data": {
            "application/vnd.google.colaboratory.intrinsic+json": {
              "type": "string"
            },
            "text/plain": [
              "'/content/gdrive/My Drive/Kaggle/Cat and Dog/small_data/test/cats'"
            ]
          },
          "metadata": {
            "tags": []
          },
          "execution_count": 36
        }
      ]
    },
    {
      "cell_type": "code",
      "metadata": {
        "id": "lrweMCzQRpgd",
        "colab_type": "code",
        "colab": {
          "base_uri": "https://localhost:8080/",
          "height": 35
        },
        "outputId": "becc3cb6-35b4-45a6-901b-eee4c55e8067"
      },
      "source": [
        "test_dogs_dir"
      ],
      "execution_count": 37,
      "outputs": [
        {
          "output_type": "execute_result",
          "data": {
            "application/vnd.google.colaboratory.intrinsic+json": {
              "type": "string"
            },
            "text/plain": [
              "'/content/gdrive/My Drive/Kaggle/Cat and Dog/small_data/test/dogs'"
            ]
          },
          "metadata": {
            "tags": []
          },
          "execution_count": 37
        }
      ]
    },
    {
      "cell_type": "markdown",
      "metadata": {
        "id": "xUlz3t9HQess",
        "colab_type": "text"
      },
      "source": [
        "# 训练模型"
      ]
    },
    {
      "cell_type": "code",
      "metadata": {
        "id": "0CVLgaYIQeLg",
        "colab_type": "code",
        "colab": {
          "base_uri": "https://localhost:8080/",
          "height": 1000
        },
        "outputId": "0f00fa1c-96ad-4426-ed26-b93e91805eed"
      },
      "source": [
        "history = model.fit_generator( \n",
        "    train_generator,\n",
        "    steps_per_epoch=100,\n",
        "    epochs=30,\n",
        "    validation_data=validation_generator,\n",
        "    validation_steps=50\n",
        ")"
      ],
      "execution_count": 31,
      "outputs": [
        {
          "output_type": "stream",
          "text": [
            "WARNING:tensorflow:From <ipython-input-31-6a7007f2969c>:6: Model.fit_generator (from tensorflow.python.keras.engine.training) is deprecated and will be removed in a future version.\n",
            "Instructions for updating:\n",
            "Please use Model.fit, which supports generators.\n",
            "Epoch 1/30\n",
            "100/100 [==============================] - 15s 150ms/step - loss: 0.6929 - acc: 0.5375 - val_loss: 0.6713 - val_acc: 0.6160\n",
            "Epoch 2/30\n",
            "100/100 [==============================] - 15s 150ms/step - loss: 0.6550 - acc: 0.6035 - val_loss: 0.6265 - val_acc: 0.6550\n",
            "Epoch 3/30\n",
            "100/100 [==============================] - 15s 151ms/step - loss: 0.5989 - acc: 0.6845 - val_loss: 0.6032 - val_acc: 0.6710\n",
            "Epoch 4/30\n",
            "100/100 [==============================] - 15s 153ms/step - loss: 0.5592 - acc: 0.7165 - val_loss: 0.5903 - val_acc: 0.6840\n",
            "Epoch 5/30\n",
            "100/100 [==============================] - 15s 147ms/step - loss: 0.5300 - acc: 0.7325 - val_loss: 0.8023 - val_acc: 0.5600\n",
            "Epoch 6/30\n",
            "100/100 [==============================] - 15s 145ms/step - loss: 0.5073 - acc: 0.7425 - val_loss: 0.6163 - val_acc: 0.6910\n",
            "Epoch 7/30\n",
            "100/100 [==============================] - 15s 146ms/step - loss: 0.4779 - acc: 0.7655 - val_loss: 0.6896 - val_acc: 0.6360\n",
            "Epoch 8/30\n",
            "100/100 [==============================] - 14s 145ms/step - loss: 0.4558 - acc: 0.7825 - val_loss: 0.6090 - val_acc: 0.6930\n",
            "Epoch 9/30\n",
            "100/100 [==============================] - 14s 144ms/step - loss: 0.4372 - acc: 0.7855 - val_loss: 0.5954 - val_acc: 0.6840\n",
            "Epoch 10/30\n",
            "100/100 [==============================] - 14s 143ms/step - loss: 0.4042 - acc: 0.8240 - val_loss: 0.6767 - val_acc: 0.6730\n",
            "Epoch 11/30\n",
            "100/100 [==============================] - 14s 144ms/step - loss: 0.3819 - acc: 0.8320 - val_loss: 0.5714 - val_acc: 0.7210\n",
            "Epoch 12/30\n",
            "100/100 [==============================] - 15s 145ms/step - loss: 0.3571 - acc: 0.8440 - val_loss: 0.6181 - val_acc: 0.7020\n",
            "Epoch 13/30\n",
            "100/100 [==============================] - 15s 148ms/step - loss: 0.3295 - acc: 0.8575 - val_loss: 0.6000 - val_acc: 0.7080\n",
            "Epoch 14/30\n",
            "100/100 [==============================] - 15s 148ms/step - loss: 0.3120 - acc: 0.8690 - val_loss: 0.6062 - val_acc: 0.7150\n",
            "Epoch 15/30\n",
            "100/100 [==============================] - 15s 148ms/step - loss: 0.2796 - acc: 0.8895 - val_loss: 0.7884 - val_acc: 0.6660\n",
            "Epoch 16/30\n",
            "100/100 [==============================] - 15s 148ms/step - loss: 0.2688 - acc: 0.8905 - val_loss: 0.7523 - val_acc: 0.6990\n",
            "Epoch 17/30\n",
            "100/100 [==============================] - 15s 149ms/step - loss: 0.2451 - acc: 0.9065 - val_loss: 0.7064 - val_acc: 0.7090\n",
            "Epoch 18/30\n",
            "100/100 [==============================] - 15s 147ms/step - loss: 0.2191 - acc: 0.9155 - val_loss: 0.6453 - val_acc: 0.7210\n",
            "Epoch 19/30\n",
            "100/100 [==============================] - 15s 152ms/step - loss: 0.1990 - acc: 0.9245 - val_loss: 0.6867 - val_acc: 0.7100\n",
            "Epoch 20/30\n",
            "100/100 [==============================] - 15s 147ms/step - loss: 0.1799 - acc: 0.9305 - val_loss: 0.7102 - val_acc: 0.7150\n",
            "Epoch 21/30\n",
            "100/100 [==============================] - 15s 149ms/step - loss: 0.1505 - acc: 0.9525 - val_loss: 0.7099 - val_acc: 0.7300\n",
            "Epoch 22/30\n",
            "100/100 [==============================] - 15s 149ms/step - loss: 0.1368 - acc: 0.9545 - val_loss: 0.8136 - val_acc: 0.7070\n",
            "Epoch 23/30\n",
            "100/100 [==============================] - 15s 150ms/step - loss: 0.1313 - acc: 0.9520 - val_loss: 0.7865 - val_acc: 0.7310\n",
            "Epoch 24/30\n",
            "100/100 [==============================] - 15s 150ms/step - loss: 0.1051 - acc: 0.9690 - val_loss: 1.1022 - val_acc: 0.6940\n",
            "Epoch 25/30\n",
            "100/100 [==============================] - 15s 151ms/step - loss: 0.0926 - acc: 0.9670 - val_loss: 0.8750 - val_acc: 0.7170\n",
            "Epoch 26/30\n",
            "100/100 [==============================] - 15s 151ms/step - loss: 0.0765 - acc: 0.9750 - val_loss: 0.9512 - val_acc: 0.7310\n",
            "Epoch 27/30\n",
            "100/100 [==============================] - 15s 153ms/step - loss: 0.0697 - acc: 0.9795 - val_loss: 0.8792 - val_acc: 0.7490\n",
            "Epoch 28/30\n",
            "100/100 [==============================] - 15s 151ms/step - loss: 0.0611 - acc: 0.9790 - val_loss: 0.9767 - val_acc: 0.7290\n",
            "Epoch 29/30\n",
            "100/100 [==============================] - 15s 150ms/step - loss: 0.0511 - acc: 0.9865 - val_loss: 1.0007 - val_acc: 0.7260\n",
            "Epoch 30/30\n",
            "100/100 [==============================] - 15s 149ms/step - loss: 0.0467 - acc: 0.9890 - val_loss: 1.0342 - val_acc: 0.7270\n"
          ],
          "name": "stdout"
        }
      ]
    },
    {
      "cell_type": "markdown",
      "metadata": {
        "id": "TzFDncqCVkww",
        "colab_type": "text"
      },
      "source": [
        "# 保存模型"
      ]
    },
    {
      "cell_type": "code",
      "metadata": {
        "id": "oaaC-TrcQQ6D",
        "colab_type": "code",
        "colab": {}
      },
      "source": [
        "model.save('cats_and_dogs_small_1.h5')"
      ],
      "execution_count": 38,
      "outputs": []
    },
    {
      "cell_type": "markdown",
      "metadata": {
        "id": "LlLua0xHVjTR",
        "colab_type": "text"
      },
      "source": [
        "# 查看模型表现"
      ]
    },
    {
      "cell_type": "code",
      "metadata": {
        "id": "ACJk33ubWsQ_",
        "colab_type": "code",
        "colab": {
          "base_uri": "https://localhost:8080/",
          "height": 545
        },
        "outputId": "cc3fd57e-49c1-425b-910a-e70d39fff468"
      },
      "source": [
        "import matplotlib.pyplot as plt\n",
        "acc = history.history['acc'] \n",
        "val_acc = history.history['val_acc'] \n",
        "loss = history.history['loss'] \n",
        "val_loss = history.history['val_loss']\n",
        "\n",
        "epochs = range(1, len(acc) + 1)\n",
        "\n",
        "plt.plot(epochs, acc, 'bo', label='Training acc') \n",
        "plt.plot(epochs, val_acc, 'b', label='Validation acc') \n",
        "plt.title('Training and validation accuracy') \n",
        "plt.legend()\n",
        "plt.figure()\n",
        "plt.plot(epochs, loss, 'bo', label='Training loss') \n",
        "plt.plot(epochs, val_loss, 'b', label='Validation loss') \n",
        "plt.title('Training and validation loss') \n",
        "plt.legend()\n",
        "plt.show()"
      ],
      "execution_count": 39,
      "outputs": [
        {
          "output_type": "display_data",
          "data": {
            "image/png": "[encoded data removed]",
            "text/plain": [
              "<Figure size 432x288 with 1 Axes>"
            ]
          },
          "metadata": {
            "tags": [],
            "needs_background": "light"
          }
        },
        {
          "output_type": "display_data",
          "data": {
            "image/png": "[encoded data removed]",
            "text/plain": [
              "<Figure size 432x288 with 1 Axes>"
            ]
          },
          "metadata": {
            "tags": [],
            "needs_background": "light"
          }
        }
      ]
    }
  ]
}