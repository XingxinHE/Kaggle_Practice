{
  "nbformat": 4,
  "nbformat_minor": 0,
  "metadata": {
    "kernelspec": {
      "language": "python",
      "display_name": "Python 3",
      "name": "python3"
    },
    "language_info": {
      "pygments_lexer": "ipython3",
      "nbconvert_exporter": "python",
      "version": "3.6.4",
      "file_extension": ".py",
      "codemirror_mode": {
        "name": "ipython",
        "version": 3
      },
      "name": "python",
      "mimetype": "text/x-python"
    },
    "colab": {
      "name": "Titanic_kerastuner",
      "provenance": [],
      "collapsed_sections": [],
      "include_colab_link": true
    },
    "accelerator": "GPU"
  },
  "cells": [
    {
      "cell_type": "markdown",
      "metadata": {
        "id": "view-in-github",
        "colab_type": "text"
      },
      "source": [
        "<a href=\"https://colab.research.google.com/github/XingxinHE/Kaggle_Practice/blob/master/Titanic_kerastuner.ipynb\" target=\"_parent\"><img src=\"https://colab.research.google.com/assets/colab-badge.svg\" alt=\"Open In Colab\"/></a>"
      ]
    },
    {
      "cell_type": "markdown",
      "metadata": {
        "id": "UU-REA4i7JpH",
        "colab_type": "text"
      },
      "source": [
        "### Set up and Install"
      ]
    },
    {
      "cell_type": "code",
      "metadata": {
        "id": "8BfZgK277RtF",
        "colab_type": "code",
        "colab": {
          "base_uri": "https://localhost:8080/",
          "height": 121
        },
        "outputId": "6884f4b4-d6a7-475a-ebd8-9245b7eb6698"
      },
      "source": [
        "from google.colab import drive\n",
        "drive.mount('/content/gdrive')\n",
        "import os\n",
        "os.chdir(\"/content/gdrive/My Drive/Kaggle/Titanic\")"
      ],
      "execution_count": 1,
      "outputs": [
        {
          "output_type": "stream",
          "text": [
            "Go to this URL in a browser: https://accounts.google.com/o/oauth2/auth?client_id=947318989803-6bn6qk8qdgf4n4g3pfee6491hc0brc4i.apps.googleusercontent.com&redirect_uri=urn%3aietf%3awg%3aoauth%3a2.0%3aoob&scope=email%20https%3a%2f%2fwww.googleapis.com%2fauth%2fdocs.test%20https%3a%2f%2fwww.googleapis.com%2fauth%2fdrive%20https%3a%2f%2fwww.googleapis.com%2fauth%2fdrive.photos.readonly%20https%3a%2f%2fwww.googleapis.com%2fauth%2fpeopleapi.readonly&response_type=code\n",
            "\n",
            "Enter your authorization code:\n",
            "··········\n",
            "Mounted at /content/gdrive\n"
          ],
          "name": "stdout"
        }
      ]
    },
    {
      "cell_type": "code",
      "metadata": {
        "trusted": true,
        "id": "YT0QSE8q7JpI",
        "colab_type": "code",
        "colab": {
          "base_uri": "https://localhost:8080/",
          "height": 50
        },
        "outputId": "a4dbf321-7dad-433c-ae92-220292a72b25"
      },
      "source": [
        "!pip install git+https://github.com/keras-team/keras-tuner.git -q"
      ],
      "execution_count": 2,
      "outputs": [
        {
          "output_type": "stream",
          "text": [
            "  Building wheel for keras-tuner (setup.py) ... \u001b[?25l\u001b[?25hdone\n",
            "  Building wheel for terminaltables (setup.py) ... \u001b[?25l\u001b[?25hdone\n"
          ],
          "name": "stdout"
        }
      ]
    },
    {
      "cell_type": "code",
      "metadata": {
        "id": "Bt6z-rW5mqzI",
        "colab_type": "code",
        "colab": {}
      },
      "source": [
        "import tensorflow as tf\n",
        "import numpy as np\n",
        "import pandas as pd\n",
        "from tensorflow import keras\n",
        "from tensorflow.keras import layers\n",
        "\n",
        "#Preprocessing函数给后面处理features\n",
        "from tensorflow.keras.layers.experimental.preprocessing import Normalization\n",
        "from tensorflow.keras.layers.experimental.preprocessing import CategoryEncoding\n",
        "from tensorflow.keras.layers.experimental.preprocessing import StringLookup\n",
        "from tensorflow.keras.layers.experimental.preprocessing import IntegerLookup\n",
        "\n",
        "#加载KerasTuner\n",
        "import kerastuner as kt"
      ],
      "execution_count": 17,
      "outputs": []
    },
    {
      "cell_type": "markdown",
      "metadata": {
        "id": "8yTHNenG7JpM",
        "colab_type": "text"
      },
      "source": [
        "### Get the data"
      ]
    },
    {
      "cell_type": "code",
      "metadata": {
        "_uuid": "8f2839f25d086af736a60e9eeb907d3b93b6e0e5",
        "_cell_guid": "b1076dfc-b9ad-4769-8c92-a6c4dae69d19",
        "trusted": true,
        "id": "DpgFnTkR7JpM",
        "colab_type": "code",
        "colab": {}
      },
      "source": [
        "full_train_dataframe = pd.read_csv('train.csv')\n",
        "test_dataframe = pd.read_csv('test.csv')"
      ],
      "execution_count": 4,
      "outputs": []
    },
    {
      "cell_type": "code",
      "metadata": {
        "_uuid": "d629ff2d2480ee46fbb7e2d37f6b5fab8052498a",
        "_cell_guid": "79c7e3d0-c299-4dcb-8224-4455121ee9b0",
        "trusted": true,
        "id": "dVBz4eRm7JpO",
        "colab_type": "code",
        "colab": {
          "base_uri": "https://localhost:8080/",
          "height": 195
        },
        "outputId": "e99c24c1-7e6b-465a-d6eb-b193d3205e28"
      },
      "source": [
        "full_train_dataframe.head()"
      ],
      "execution_count": 5,
      "outputs": [
        {
          "output_type": "execute_result",
          "data": {
            "text/html": [
              "<div>\n",
              "<style scoped>\n",
              "    .dataframe tbody tr th:only-of-type {\n",
              "        vertical-align: middle;\n",
              "    }\n",
              "\n",
              "    .dataframe tbody tr th {\n",
              "        vertical-align: top;\n",
              "    }\n",
              "\n",
              "    .dataframe thead th {\n",
              "        text-align: right;\n",
              "    }\n",
              "</style>\n",
              "<table border=\"1\" class=\"dataframe\">\n",
              "  <thead>\n",
              "    <tr style=\"text-align: right;\">\n",
              "      <th></th>\n",
              "      <th>PassengerId</th>\n",
              "      <th>Survived</th>\n",
              "      <th>Pclass</th>\n",
              "      <th>Name</th>\n",
              "      <th>Sex</th>\n",
              "      <th>Age</th>\n",
              "      <th>SibSp</th>\n",
              "      <th>Parch</th>\n",
              "      <th>Ticket</th>\n",
              "      <th>Fare</th>\n",
              "      <th>Cabin</th>\n",
              "      <th>Embarked</th>\n",
              "    </tr>\n",
              "  </thead>\n",
              "  <tbody>\n",
              "    <tr>\n",
              "      <th>0</th>\n",
              "      <td>1</td>\n",
              "      <td>0</td>\n",
              "      <td>3</td>\n",
              "      <td>Braund, Mr. Owen Harris</td>\n",
              "      <td>male</td>\n",
              "      <td>22.0</td>\n",
              "      <td>1</td>\n",
              "      <td>0</td>\n",
              "      <td>A/5 21171</td>\n",
              "      <td>7.2500</td>\n",
              "      <td>NaN</td>\n",
              "      <td>S</td>\n",
              "    </tr>\n",
              "    <tr>\n",
              "      <th>1</th>\n",
              "      <td>2</td>\n",
              "      <td>1</td>\n",
              "      <td>1</td>\n",
              "      <td>Cumings, Mrs. John Bradley (Florence Briggs Th...</td>\n",
              "      <td>female</td>\n",
              "      <td>38.0</td>\n",
              "      <td>1</td>\n",
              "      <td>0</td>\n",
              "      <td>PC 17599</td>\n",
              "      <td>71.2833</td>\n",
              "      <td>C85</td>\n",
              "      <td>C</td>\n",
              "    </tr>\n",
              "    <tr>\n",
              "      <th>2</th>\n",
              "      <td>3</td>\n",
              "      <td>1</td>\n",
              "      <td>3</td>\n",
              "      <td>Heikkinen, Miss. Laina</td>\n",
              "      <td>female</td>\n",
              "      <td>26.0</td>\n",
              "      <td>0</td>\n",
              "      <td>0</td>\n",
              "      <td>STON/O2. 3101282</td>\n",
              "      <td>7.9250</td>\n",
              "      <td>NaN</td>\n",
              "      <td>S</td>\n",
              "    </tr>\n",
              "    <tr>\n",
              "      <th>3</th>\n",
              "      <td>4</td>\n",
              "      <td>1</td>\n",
              "      <td>1</td>\n",
              "      <td>Futrelle, Mrs. Jacques Heath (Lily May Peel)</td>\n",
              "      <td>female</td>\n",
              "      <td>35.0</td>\n",
              "      <td>1</td>\n",
              "      <td>0</td>\n",
              "      <td>113803</td>\n",
              "      <td>53.1000</td>\n",
              "      <td>C123</td>\n",
              "      <td>S</td>\n",
              "    </tr>\n",
              "    <tr>\n",
              "      <th>4</th>\n",
              "      <td>5</td>\n",
              "      <td>0</td>\n",
              "      <td>3</td>\n",
              "      <td>Allen, Mr. William Henry</td>\n",
              "      <td>male</td>\n",
              "      <td>35.0</td>\n",
              "      <td>0</td>\n",
              "      <td>0</td>\n",
              "      <td>373450</td>\n",
              "      <td>8.0500</td>\n",
              "      <td>NaN</td>\n",
              "      <td>S</td>\n",
              "    </tr>\n",
              "  </tbody>\n",
              "</table>\n",
              "</div>"
            ],
            "text/plain": [
              "   PassengerId  Survived  Pclass  ...     Fare Cabin  Embarked\n",
              "0            1         0       3  ...   7.2500   NaN         S\n",
              "1            2         1       1  ...  71.2833   C85         C\n",
              "2            3         1       3  ...   7.9250   NaN         S\n",
              "3            4         1       1  ...  53.1000  C123         S\n",
              "4            5         0       3  ...   8.0500   NaN         S\n",
              "\n",
              "[5 rows x 12 columns]"
            ]
          },
          "metadata": {
            "tags": []
          },
          "execution_count": 5
        }
      ]
    },
    {
      "cell_type": "markdown",
      "metadata": {
        "id": "pWj5VPzO7JpR",
        "colab_type": "text"
      },
      "source": [
        "### 分训练集和验证集\n",
        "\n",
        "假设只有这些feature起作用： Pclass, Sex, Age, SibSp, Parch, Fare.\n",
        "\n",
        "所以会丢掉Cabin, Name, PassengerId, Ticket, Embarked.\n",
        "\n",
        "数据预处理Age，因为有NaN"
      ]
    },
    {
      "cell_type": "code",
      "metadata": {
        "id": "OE2U_Uv8mzEv",
        "colab_type": "code",
        "colab": {
          "base_uri": "https://localhost:8080/",
          "height": 67
        },
        "outputId": "b0a6b7e6-e18f-4ede-83d5-f8f27384de23"
      },
      "source": [
        "#划分train和val数据集\n",
        "val_dataframe = full_train_dataframe.sample(frac=0.2, random_state=1337)\n",
        "train_dataframe = full_train_dataframe.drop(val_dataframe.index)\n",
        "\n",
        "\n",
        "print(\"Total number of training samples: %d\" % (len(full_train_dataframe)))\n",
        "print(\"Total number of test samples: %d\" % (len(test_dataframe)))\n",
        "print(\n",
        "    \"Using %d samples for training and %d for validation\"\n",
        "    % (len(train_dataframe), len(val_dataframe))\n",
        ")"
      ],
      "execution_count": 7,
      "outputs": [
        {
          "output_type": "stream",
          "text": [
            "Total number of training samples: 891\n",
            "Total number of test samples: 418\n",
            "Using 713 samples for training and 178 for validation\n"
          ],
          "name": "stdout"
        }
      ]
    },
    {
      "cell_type": "code",
      "metadata": {
        "trusted": true,
        "id": "y9-2O-mJ7JpR",
        "colab_type": "code",
        "colab": {}
      },
      "source": [
        "#定义一个function来填充NaN\n",
        "def fill_nan(df, mean_age):\n",
        "    df['Age'].fillna(value=mean_age, inplace=True)\n",
        "\n",
        "#定义填充NaN的平均年龄\n",
        "mean_age = np.mean(train_dataframe['Age'])\n",
        "\n",
        "#填充NaN\n",
        "fill_nan(train_dataframe, mean_age)\n",
        "fill_nan(val_dataframe, mean_age)\n",
        "fill_nan(full_train_dataframe, mean_age)\n",
        "fill_nan(test_dataframe, mean_age)"
      ],
      "execution_count": 8,
      "outputs": []
    },
    {
      "cell_type": "markdown",
      "metadata": {
        "id": "9_a7tzk57JpV",
        "colab_type": "text"
      },
      "source": [
        "### 将DF变成TF数据集的function"
      ]
    },
    {
      "cell_type": "code",
      "metadata": {
        "trusted": true,
        "id": "kQPTjW-m7JpW",
        "colab_type": "code",
        "colab": {}
      },
      "source": [
        "#定义DF->TF的function\n",
        "#这个函数处理训练集和测试集，因为测试集是没有标签的，所以后面的train=True是只给训练集的\n",
        "#这一点很重要，之前我用structure data的思路去做，老是做不到，就是这个步骤缺了\n",
        "def dataframe_to_dataset(dataframe, train=True):\n",
        "    dataframe = dataframe.copy()\n",
        "\n",
        "    #把上面假设无关的标签去除\n",
        "    dataframe.pop(\"Cabin\")\n",
        "    dataframe.pop(\"Name\")\n",
        "    dataframe.pop(\"Ticket\")\n",
        "    dataframe.pop(\"Embarked\")\n",
        "    dataframe.pop(\"PassengerId\")\n",
        "    \n",
        "    if train:\n",
        "        #定义预测用的标签\n",
        "        labels = dataframe.pop(\"Survived\")\n",
        "        #创建数据集\n",
        "        ds = tf.data.Dataset.from_tensor_slices((dict(dataframe), labels))\n",
        "        #打乱\n",
        "        ds = ds.shuffle(buffer_size=len(dataframe))\n",
        "    else:\n",
        "        ds = tf.data.Dataset.from_tensor_slices(dict(dataframe))\n",
        "    return ds"
      ],
      "execution_count": 9,
      "outputs": []
    },
    {
      "cell_type": "markdown",
      "metadata": {
        "id": "DWcA6Z2woBub",
        "colab_type": "text"
      },
      "source": [
        "### 正式将DF->TF.ds"
      ]
    },
    {
      "cell_type": "code",
      "metadata": {
        "id": "xW_0KjCjoGGS",
        "colab_type": "code",
        "colab": {}
      },
      "source": [
        "train_ds = dataframe_to_dataset(train_dataframe)\n",
        "val_ds = dataframe_to_dataset(val_dataframe)\n",
        "test_ds = dataframe_to_dataset(test_dataframe, train=False)\n",
        "full_train_ds = dataframe_to_dataset(full_train_dataframe)"
      ],
      "execution_count": 10,
      "outputs": []
    },
    {
      "cell_type": "code",
      "metadata": {
        "id": "f1j_BRBNoAJH",
        "colab_type": "code",
        "colab": {
          "base_uri": "https://localhost:8080/",
          "height": 118
        },
        "outputId": "22da0cfe-fb8e-4ce5-b6c4-82d6e4c833cc"
      },
      "source": [
        "#取样看看有没有差错\n",
        "for sample in train_ds.take(1):\n",
        "    for key in sample[0].keys():\n",
        "    #为何是sample[0]？因为sample[0]是训练集，sample[1]是label\n",
        "        print('Feature:', key, '- dtype:', sample[0][key].dtype.name)"
      ],
      "execution_count": 11,
      "outputs": [
        {
          "output_type": "stream",
          "text": [
            "Feature: Pclass - dtype: int64\n",
            "Feature: Sex - dtype: string\n",
            "Feature: Age - dtype: float64\n",
            "Feature: SibSp - dtype: int64\n",
            "Feature: Parch - dtype: int64\n",
            "Feature: Fare - dtype: float64\n"
          ],
          "name": "stdout"
        }
      ]
    },
    {
      "cell_type": "code",
      "metadata": {
        "id": "QbHWMko0oXaY",
        "colab_type": "code",
        "colab": {}
      },
      "source": [
        "#分批次和预取数据\n",
        "train_ds = train_ds.batch(32).prefetch(32)\n",
        "val_ds = val_ds.batch(32).prefetch(32)\n",
        "test_ds = test_ds.batch(32).prefetch(32)\n",
        "full_train_ds = full_train_ds.batch(32).prefetch(32)"
      ],
      "execution_count": 12,
      "outputs": []
    },
    {
      "cell_type": "markdown",
      "metadata": {
        "id": "4kp_J-2L7JpY",
        "colab_type": "text"
      },
      "source": [
        "### 设置网络的输入set up input of the network"
      ]
    },
    {
      "cell_type": "code",
      "metadata": {
        "trusted": true,
        "id": "Lfg2en-r7JpZ",
        "colab_type": "code",
        "colab": {}
      },
      "source": [
        "# Numerical features\n",
        "age = keras.Input(shape=(1,), name='Age')\n",
        "fare = keras.Input(shape=(1,), name='Fare')\n",
        "\n",
        "# Integer categorical features\n",
        "pclass = keras.Input(shape=(1,), name='Pclass', dtype='int64')\n",
        "sibsp = keras.Input(shape=(1,), name='SibSp', dtype='int64')\n",
        "parch = keras.Input(shape=(1,), name='Parch', dtype='int64')\n",
        "\n",
        "# String categorical features\n",
        "sex = keras.Input(shape=(1,), name='Sex', dtype='string')"
      ],
      "execution_count": 13,
      "outputs": []
    },
    {
      "cell_type": "markdown",
      "metadata": {
        "id": "IwLjuJTK7Jpc",
        "colab_type": "text"
      },
      "source": [
        "We set up utilities to encode these features, using Keras Preprocessing Layers."
      ]
    },
    {
      "cell_type": "code",
      "metadata": {
        "trusted": true,
        "id": "_yvH05o77Jpc",
        "colab_type": "code",
        "colab": {}
      },
      "source": [
        "#numerical encoder\n",
        "def encode_numerical_feature(feature, name, dataset):\n",
        "    # Create a Normalization layer for our feature\n",
        "    normalizer = Normalization()\n",
        "\n",
        "    #指定只是该feature\n",
        "    feature_ds = dataset.map(lambda x, y: x[name]) #y是label，x是原来的df\n",
        "    feature_ds = feature_ds.map(lambda x: tf.expand_dims(x, -1))\n",
        "\n",
        "    # Learn the statistics of the data\n",
        "    normalizer.adapt(feature_ds)\n",
        "\n",
        "    #normalize输入\n",
        "    encoded_feature = normalizer(feature)\n",
        "    return encoded_feature\n",
        "\n",
        "#categorical encoder\n",
        "def encode_categorical_feature(feature, name, dataset):\n",
        "\n",
        "    #因为训练集有两种categories，一种是数字的，一种是文字的\n",
        "    #为了省时间，创建的这个函数可以容纳两种数据，只需specify即可\n",
        "    if feature.dtype.name == 'string':\n",
        "        index = StringLookup()\n",
        "    else:\n",
        "        index = IntegerLookup()\n",
        "\n",
        "    #指定只是该feature\n",
        "    feature_ds = dataset.map(lambda x, y: x[name]) #y是label，x是原来的df\n",
        "    feature_ds = feature_ds.map(lambda x: tf.expand_dims(x, -1))\n",
        "\n",
        "    #找出有多少个categories\n",
        "    index.adapt(feature_ds)\n",
        "\n",
        "    #将categories转成数字\n",
        "    encoded_feature = index(feature)\n",
        "\n",
        "    # Create a CategoryEncoding for our integer indices\n",
        "    encoder = CategoryEncoding(output_mode=\"binary\")\n",
        "\n",
        "    # Prepare a dataset of indices\n",
        "    feature_ds = feature_ds.map(index)\n",
        "\n",
        "    # Learn the space of possible indices\n",
        "    encoder.adapt(feature_ds)\n",
        "\n",
        "    # Apply one-hot encoding to our indices\n",
        "    encoded_feature = encoder(encoded_feature)\n",
        "    return encoded_feature\n"
      ],
      "execution_count": 15,
      "outputs": []
    },
    {
      "cell_type": "markdown",
      "metadata": {
        "id": "U-eKRxt37Jpe",
        "colab_type": "text"
      },
      "source": [
        "### Encoding features"
      ]
    },
    {
      "cell_type": "code",
      "metadata": {
        "trusted": true,
        "id": "6H54Wsfy7Jpe",
        "colab_type": "code",
        "colab": {}
      },
      "source": [
        "# Numerical features\n",
        "encoded_age = encode_numerical_feature(age, name='Age', dataset=train_ds)\n",
        "encoded_fare = encode_numerical_feature(fare, name='Fare', dataset=train_ds)\n",
        "\n",
        "# Integer categorical features\n",
        "encoded_pclass = encode_categorical_feature(pclass, name='Pclass', dataset=train_ds)\n",
        "encoded_sibsp = encode_categorical_feature(sibsp, name='SibSp', dataset=train_ds)\n",
        "encoded_parch = encode_categorical_feature(parch, name='Parch', dataset=train_ds)\n",
        "\n",
        "# String categorical features\n",
        "encoded_sex = encode_categorical_feature(sex, name='Sex', dataset=train_ds)"
      ],
      "execution_count": 16,
      "outputs": []
    },
    {
      "cell_type": "markdown",
      "metadata": {
        "id": "npu-esJ07Jpg",
        "colab_type": "text"
      },
      "source": [
        "### 准备 KerasTuner\n",
        "\n",
        "简单来说，Tuner就是帮我们找到最合适的模型"
      ]
    },
    {
      "cell_type": "code",
      "metadata": {
        "id": "KtRV4ecvpi6h",
        "colab_type": "code",
        "colab": {}
      },
      "source": [
        "#说好input和feature都是啥\n",
        "inputs = [age, fare, pclass, sibsp, parch, sex]\n",
        "features = layers.concatenate([encoded_age, encoded_fare, encoded_pclass, encoded_sibsp, encoded_parch, encoded_sex])"
      ],
      "execution_count": 18,
      "outputs": []
    },
    {
      "cell_type": "code",
      "metadata": {
        "trusted": true,
        "id": "VAUgqOFs7Jph",
        "colab_type": "code",
        "colab": {}
      },
      "source": [
        "#做模型的function\n",
        "def make_model(hp):\n",
        "    num_dense = hp.Int('num_dense', min_value=1, max_value=3, step=1) #在这些范围内找出最佳的模型\n",
        "    x = features\n",
        "    for i in range(num_dense):\n",
        "        units = hp.Int('units_{i}'.format(i=i), min_value=8, max_value=256, step=8) #在这些范围内找出倒数第二层的Dense Layer要多少neuron\n",
        "        x = layers.Dense(units, activation='relu')(x)\n",
        "    outputs = layers.Dense(1, activation='sigmoid')(x) #因为是0和1的输出，所以是sigmoid\n",
        "    model = keras.Model(inputs, outputs) #输入和输出\n",
        "\n",
        "    learning_rate = hp.Float('learning_rate', min_value=3e-4, max_value=3e-3)\n",
        "    optimizer = keras.optimizers.Adam(learning_rate=1e-3)\n",
        "    model.compile(loss=keras.losses.BinaryCrossentropy(from_logits=True), #损失函数\n",
        "                  optimizer=optimizer, #优化器\n",
        "                  metrics=[keras.metrics.BinaryAccuracy(name='acc')]) #量化的metrics\n",
        "    model.summary()\n",
        "    return model"
      ],
      "execution_count": 19,
      "outputs": []
    },
    {
      "cell_type": "markdown",
      "metadata": {
        "id": "_2rlbuVF7Jpj",
        "colab_type": "text"
      },
      "source": [
        "### 运行kt，来找最优解的模型\n",
        "\n",
        "We run random search over this hyperparmater search space."
      ]
    },
    {
      "cell_type": "code",
      "metadata": {
        "trusted": true,
        "id": "fo6zkKXA7Jpj",
        "colab_type": "code",
        "colab": {
          "base_uri": "https://localhost:8080/",
          "height": 118
        },
        "outputId": "146f03c2-4d21-496d-efde-59247c173a19"
      },
      "source": [
        "tuner = kt.tuners.RandomSearch(\n",
        "    make_model,\n",
        "    objective='val_acc',\n",
        "    max_trials=100,\n",
        "    overwrite=True)\n",
        "\n",
        "callbacks=[keras.callbacks.EarlyStopping(monitor='val_acc', mode='max', patience=3)]\n",
        "tuner.search(train_ds, validation_data=val_ds, callbacks=callbacks, epochs=100)"
      ],
      "execution_count": 20,
      "outputs": [
        {
          "output_type": "stream",
          "text": [
            "Trial 100 Complete [00h 00m 02s]\n",
            "val_acc: 0.8202247023582458\n",
            "\n",
            "Best val_acc So Far: 0.8426966071128845\n",
            "Total elapsed time: 00h 04m 23s\n",
            "INFO:tensorflow:Oracle triggered exit\n"
          ],
          "name": "stdout"
        }
      ]
    },
    {
      "cell_type": "markdown",
      "metadata": {
        "id": "Tonqk6jf7Jpm",
        "colab_type": "text"
      },
      "source": [
        "### 找到最优解的epoch\n",
        "\n",
        "Now, we can retrieve the best hyperparameters, use them to build the best model, and train the model for 100 epochs to find at which epoch training should stop."
      ]
    },
    {
      "cell_type": "code",
      "metadata": {
        "trusted": true,
        "id": "oiT2nZld7Jpm",
        "colab_type": "code",
        "colab": {
          "base_uri": "https://localhost:8080/",
          "height": 1000
        },
        "outputId": "2af3748f-9a74-422d-af50-6eb2892a773d"
      },
      "source": [
        "best_hp = tuner.get_best_hyperparameters()[0]\n",
        "model = make_model(best_hp)\n",
        "history = model.fit(train_ds, validation_data=val_ds, epochs=100)"
      ],
      "execution_count": 21,
      "outputs": [
        {
          "output_type": "stream",
          "text": [
            "Model: \"functional_3\"\n",
            "__________________________________________________________________________________________________\n",
            "Layer (type)                    Output Shape         Param #     Connected to                     \n",
            "==================================================================================================\n",
            "Pclass (InputLayer)             [(None, 1)]          0                                            \n",
            "__________________________________________________________________________________________________\n",
            "SibSp (InputLayer)              [(None, 1)]          0                                            \n",
            "__________________________________________________________________________________________________\n",
            "Parch (InputLayer)              [(None, 1)]          0                                            \n",
            "__________________________________________________________________________________________________\n",
            "Sex (InputLayer)                [(None, 1)]          0                                            \n",
            "__________________________________________________________________________________________________\n",
            "Age (InputLayer)                [(None, 1)]          0                                            \n",
            "__________________________________________________________________________________________________\n",
            "Fare (InputLayer)               [(None, 1)]          0                                            \n",
            "__________________________________________________________________________________________________\n",
            "integer_lookup (IntegerLookup)  (None, 1)            0           Pclass[0][0]                     \n",
            "__________________________________________________________________________________________________\n",
            "integer_lookup_1 (IntegerLookup (None, 1)            0           SibSp[0][0]                      \n",
            "__________________________________________________________________________________________________\n",
            "integer_lookup_2 (IntegerLookup (None, 1)            0           Parch[0][0]                      \n",
            "__________________________________________________________________________________________________\n",
            "string_lookup (StringLookup)    (None, 1)            0           Sex[0][0]                        \n",
            "__________________________________________________________________________________________________\n",
            "normalization (Normalization)   (None, 1)            3           Age[0][0]                        \n",
            "__________________________________________________________________________________________________\n",
            "normalization_1 (Normalization) (None, 1)            3           Fare[0][0]                       \n",
            "__________________________________________________________________________________________________\n",
            "category_encoding (CategoryEnco (None, 5)            1           integer_lookup[0][0]             \n",
            "__________________________________________________________________________________________________\n",
            "category_encoding_1 (CategoryEn (None, 8)            1           integer_lookup_1[0][0]           \n",
            "__________________________________________________________________________________________________\n",
            "category_encoding_2 (CategoryEn (None, 7)            1           integer_lookup_2[0][0]           \n",
            "__________________________________________________________________________________________________\n",
            "category_encoding_3 (CategoryEn (None, 4)            1           string_lookup[0][0]              \n",
            "__________________________________________________________________________________________________\n",
            "concatenate (Concatenate)       (None, 26)           0           normalization[0][0]              \n",
            "                                                                 normalization_1[0][0]            \n",
            "                                                                 category_encoding[0][0]          \n",
            "                                                                 category_encoding_1[0][0]        \n",
            "                                                                 category_encoding_2[0][0]        \n",
            "                                                                 category_encoding_3[0][0]        \n",
            "__________________________________________________________________________________________________\n",
            "dense_3 (Dense)                 (None, 144)          3888        concatenate[0][0]                \n",
            "__________________________________________________________________________________________________\n",
            "dense_4 (Dense)                 (None, 216)          31320       dense_3[0][0]                    \n",
            "__________________________________________________________________________________________________\n",
            "dense_5 (Dense)                 (None, 1)            217         dense_4[0][0]                    \n",
            "==================================================================================================\n",
            "Total params: 35,435\n",
            "Trainable params: 35,425\n",
            "Non-trainable params: 10\n",
            "__________________________________________________________________________________________________\n",
            "Epoch 1/100\n",
            "23/23 [==============================] - 0s 12ms/step - loss: 0.7163 - acc: 0.6381 - val_loss: 0.6757 - val_acc: 0.6966\n",
            "Epoch 2/100\n",
            "23/23 [==============================] - 0s 4ms/step - loss: 0.6553 - acc: 0.7447 - val_loss: 0.6509 - val_acc: 0.7865\n",
            "Epoch 3/100\n",
            "23/23 [==============================] - 0s 4ms/step - loss: 0.6378 - acc: 0.7798 - val_loss: 0.6396 - val_acc: 0.8090\n",
            "Epoch 4/100\n",
            "23/23 [==============================] - 0s 4ms/step - loss: 0.6301 - acc: 0.8036 - val_loss: 0.6341 - val_acc: 0.8146\n",
            "Epoch 5/100\n",
            "23/23 [==============================] - 0s 5ms/step - loss: 0.6275 - acc: 0.8036 - val_loss: 0.6317 - val_acc: 0.8146\n",
            "Epoch 6/100\n",
            "23/23 [==============================] - 0s 5ms/step - loss: 0.6260 - acc: 0.8065 - val_loss: 0.6300 - val_acc: 0.8146\n",
            "Epoch 7/100\n",
            "23/23 [==============================] - 0s 4ms/step - loss: 0.6243 - acc: 0.8036 - val_loss: 0.6303 - val_acc: 0.8146\n",
            "Epoch 8/100\n",
            "23/23 [==============================] - 0s 5ms/step - loss: 0.6234 - acc: 0.8079 - val_loss: 0.6333 - val_acc: 0.7978\n",
            "Epoch 9/100\n",
            "23/23 [==============================] - 0s 4ms/step - loss: 0.6232 - acc: 0.8121 - val_loss: 0.6314 - val_acc: 0.8034\n",
            "Epoch 10/100\n",
            "23/23 [==============================] - 0s 5ms/step - loss: 0.6233 - acc: 0.8149 - val_loss: 0.6304 - val_acc: 0.8034\n",
            "Epoch 11/100\n",
            "23/23 [==============================] - 0s 4ms/step - loss: 0.6214 - acc: 0.8135 - val_loss: 0.6357 - val_acc: 0.7978\n",
            "Epoch 12/100\n",
            "23/23 [==============================] - 0s 4ms/step - loss: 0.6207 - acc: 0.8177 - val_loss: 0.6347 - val_acc: 0.7753\n",
            "Epoch 13/100\n",
            "23/23 [==============================] - 0s 4ms/step - loss: 0.6200 - acc: 0.8177 - val_loss: 0.6351 - val_acc: 0.7865\n",
            "Epoch 14/100\n",
            "23/23 [==============================] - 0s 4ms/step - loss: 0.6200 - acc: 0.8261 - val_loss: 0.6338 - val_acc: 0.7865\n",
            "Epoch 15/100\n",
            "23/23 [==============================] - 0s 5ms/step - loss: 0.6201 - acc: 0.8177 - val_loss: 0.6401 - val_acc: 0.7865\n",
            "Epoch 16/100\n",
            "23/23 [==============================] - 0s 5ms/step - loss: 0.6207 - acc: 0.8205 - val_loss: 0.6369 - val_acc: 0.7809\n",
            "Epoch 17/100\n",
            "23/23 [==============================] - 0s 5ms/step - loss: 0.6205 - acc: 0.8149 - val_loss: 0.6346 - val_acc: 0.7809\n",
            "Epoch 18/100\n",
            "23/23 [==============================] - 0s 4ms/step - loss: 0.6189 - acc: 0.8177 - val_loss: 0.6377 - val_acc: 0.8034\n",
            "Epoch 19/100\n",
            "23/23 [==============================] - 0s 5ms/step - loss: 0.6200 - acc: 0.8163 - val_loss: 0.6372 - val_acc: 0.7809\n",
            "Epoch 20/100\n",
            "23/23 [==============================] - 0s 5ms/step - loss: 0.6182 - acc: 0.8233 - val_loss: 0.6380 - val_acc: 0.7809\n",
            "Epoch 21/100\n",
            "23/23 [==============================] - 0s 4ms/step - loss: 0.6178 - acc: 0.8233 - val_loss: 0.6383 - val_acc: 0.7809\n",
            "Epoch 22/100\n",
            "23/23 [==============================] - 0s 4ms/step - loss: 0.6188 - acc: 0.8359 - val_loss: 0.6366 - val_acc: 0.8034\n",
            "Epoch 23/100\n",
            "23/23 [==============================] - 0s 4ms/step - loss: 0.6176 - acc: 0.8275 - val_loss: 0.6370 - val_acc: 0.7921\n",
            "Epoch 24/100\n",
            "23/23 [==============================] - 0s 5ms/step - loss: 0.6171 - acc: 0.8275 - val_loss: 0.6369 - val_acc: 0.7865\n",
            "Epoch 25/100\n",
            "23/23 [==============================] - 0s 5ms/step - loss: 0.6170 - acc: 0.8261 - val_loss: 0.6434 - val_acc: 0.7753\n",
            "Epoch 26/100\n",
            "23/23 [==============================] - 0s 4ms/step - loss: 0.6173 - acc: 0.8233 - val_loss: 0.6392 - val_acc: 0.7865\n",
            "Epoch 27/100\n",
            "23/23 [==============================] - 0s 4ms/step - loss: 0.6152 - acc: 0.8359 - val_loss: 0.6397 - val_acc: 0.7978\n",
            "Epoch 28/100\n",
            "23/23 [==============================] - 0s 4ms/step - loss: 0.6150 - acc: 0.8331 - val_loss: 0.6397 - val_acc: 0.7865\n",
            "Epoch 29/100\n",
            "23/23 [==============================] - 0s 4ms/step - loss: 0.6144 - acc: 0.8345 - val_loss: 0.6388 - val_acc: 0.7978\n",
            "Epoch 30/100\n",
            "23/23 [==============================] - 0s 4ms/step - loss: 0.6155 - acc: 0.8303 - val_loss: 0.6365 - val_acc: 0.8258\n",
            "Epoch 31/100\n",
            "23/23 [==============================] - 0s 5ms/step - loss: 0.6154 - acc: 0.8289 - val_loss: 0.6409 - val_acc: 0.7809\n",
            "Epoch 32/100\n",
            "23/23 [==============================] - 0s 5ms/step - loss: 0.6142 - acc: 0.8303 - val_loss: 0.6379 - val_acc: 0.7921\n",
            "Epoch 33/100\n",
            "23/23 [==============================] - 0s 6ms/step - loss: 0.6145 - acc: 0.8317 - val_loss: 0.6410 - val_acc: 0.7865\n",
            "Epoch 34/100\n",
            "23/23 [==============================] - 0s 5ms/step - loss: 0.6149 - acc: 0.8373 - val_loss: 0.6356 - val_acc: 0.7978\n",
            "Epoch 35/100\n",
            "23/23 [==============================] - 0s 5ms/step - loss: 0.6146 - acc: 0.8303 - val_loss: 0.6438 - val_acc: 0.7865\n",
            "Epoch 36/100\n",
            "23/23 [==============================] - 0s 4ms/step - loss: 0.6155 - acc: 0.8317 - val_loss: 0.6402 - val_acc: 0.7865\n",
            "Epoch 37/100\n",
            "23/23 [==============================] - 0s 4ms/step - loss: 0.6145 - acc: 0.8317 - val_loss: 0.6411 - val_acc: 0.7809\n",
            "Epoch 38/100\n",
            "23/23 [==============================] - 0s 4ms/step - loss: 0.6154 - acc: 0.8317 - val_loss: 0.6411 - val_acc: 0.7809\n",
            "Epoch 39/100\n",
            "23/23 [==============================] - 0s 4ms/step - loss: 0.6127 - acc: 0.8345 - val_loss: 0.6425 - val_acc: 0.7809\n",
            "Epoch 40/100\n",
            "23/23 [==============================] - 0s 4ms/step - loss: 0.6150 - acc: 0.8471 - val_loss: 0.6381 - val_acc: 0.7978\n",
            "Epoch 41/100\n",
            "23/23 [==============================] - 0s 5ms/step - loss: 0.6137 - acc: 0.8317 - val_loss: 0.6461 - val_acc: 0.7697\n",
            "Epoch 42/100\n",
            "23/23 [==============================] - 0s 4ms/step - loss: 0.6172 - acc: 0.8387 - val_loss: 0.6384 - val_acc: 0.7921\n",
            "Epoch 43/100\n",
            "23/23 [==============================] - 0s 5ms/step - loss: 0.6130 - acc: 0.8429 - val_loss: 0.6412 - val_acc: 0.7921\n",
            "Epoch 44/100\n",
            "23/23 [==============================] - 0s 4ms/step - loss: 0.6122 - acc: 0.8471 - val_loss: 0.6388 - val_acc: 0.7921\n",
            "Epoch 45/100\n",
            "23/23 [==============================] - 0s 4ms/step - loss: 0.6151 - acc: 0.8233 - val_loss: 0.6414 - val_acc: 0.7921\n",
            "Epoch 46/100\n",
            "23/23 [==============================] - 0s 4ms/step - loss: 0.6139 - acc: 0.8429 - val_loss: 0.6376 - val_acc: 0.7865\n",
            "Epoch 47/100\n",
            "23/23 [==============================] - 0s 4ms/step - loss: 0.6141 - acc: 0.8345 - val_loss: 0.6415 - val_acc: 0.7921\n",
            "Epoch 48/100\n",
            "23/23 [==============================] - 0s 5ms/step - loss: 0.6125 - acc: 0.8345 - val_loss: 0.6412 - val_acc: 0.7865\n",
            "Epoch 49/100\n",
            "23/23 [==============================] - 0s 4ms/step - loss: 0.6121 - acc: 0.8457 - val_loss: 0.6414 - val_acc: 0.7865\n",
            "Epoch 50/100\n",
            "23/23 [==============================] - 0s 5ms/step - loss: 0.6122 - acc: 0.8443 - val_loss: 0.6411 - val_acc: 0.7809\n",
            "Epoch 51/100\n",
            "23/23 [==============================] - 0s 4ms/step - loss: 0.6119 - acc: 0.8485 - val_loss: 0.6410 - val_acc: 0.7865\n",
            "Epoch 52/100\n",
            "23/23 [==============================] - 0s 5ms/step - loss: 0.6117 - acc: 0.8485 - val_loss: 0.6407 - val_acc: 0.7921\n",
            "Epoch 53/100\n",
            "23/23 [==============================] - 0s 4ms/step - loss: 0.6122 - acc: 0.8317 - val_loss: 0.6446 - val_acc: 0.7809\n",
            "Epoch 54/100\n",
            "23/23 [==============================] - 0s 4ms/step - loss: 0.6115 - acc: 0.8499 - val_loss: 0.6414 - val_acc: 0.7865\n",
            "Epoch 55/100\n",
            "23/23 [==============================] - 0s 4ms/step - loss: 0.6119 - acc: 0.8415 - val_loss: 0.6472 - val_acc: 0.7809\n",
            "Epoch 56/100\n",
            "23/23 [==============================] - 0s 4ms/step - loss: 0.6115 - acc: 0.8471 - val_loss: 0.6440 - val_acc: 0.7921\n",
            "Epoch 57/100\n",
            "23/23 [==============================] - 0s 4ms/step - loss: 0.6117 - acc: 0.8387 - val_loss: 0.6465 - val_acc: 0.7865\n",
            "Epoch 58/100\n",
            "23/23 [==============================] - 0s 4ms/step - loss: 0.6117 - acc: 0.8457 - val_loss: 0.6419 - val_acc: 0.7921\n",
            "Epoch 59/100\n",
            "23/23 [==============================] - 0s 5ms/step - loss: 0.6106 - acc: 0.8485 - val_loss: 0.6447 - val_acc: 0.7809\n",
            "Epoch 60/100\n",
            "23/23 [==============================] - 0s 4ms/step - loss: 0.6124 - acc: 0.8345 - val_loss: 0.6495 - val_acc: 0.7697\n",
            "Epoch 61/100\n",
            "23/23 [==============================] - 0s 5ms/step - loss: 0.6109 - acc: 0.8485 - val_loss: 0.6419 - val_acc: 0.7921\n",
            "Epoch 62/100\n",
            "23/23 [==============================] - 0s 4ms/step - loss: 0.6105 - acc: 0.8485 - val_loss: 0.6459 - val_acc: 0.7753\n",
            "Epoch 63/100\n",
            "23/23 [==============================] - 0s 4ms/step - loss: 0.6125 - acc: 0.8471 - val_loss: 0.6437 - val_acc: 0.7865\n",
            "Epoch 64/100\n",
            "23/23 [==============================] - 0s 4ms/step - loss: 0.6116 - acc: 0.8471 - val_loss: 0.6419 - val_acc: 0.7865\n",
            "Epoch 65/100\n",
            "23/23 [==============================] - 0s 5ms/step - loss: 0.6123 - acc: 0.8457 - val_loss: 0.6459 - val_acc: 0.7809\n",
            "Epoch 66/100\n",
            "23/23 [==============================] - 0s 4ms/step - loss: 0.6125 - acc: 0.8345 - val_loss: 0.6439 - val_acc: 0.7921\n",
            "Epoch 67/100\n",
            "23/23 [==============================] - 0s 4ms/step - loss: 0.6135 - acc: 0.8457 - val_loss: 0.6478 - val_acc: 0.7809\n",
            "Epoch 68/100\n",
            "23/23 [==============================] - 0s 4ms/step - loss: 0.6121 - acc: 0.8415 - val_loss: 0.6442 - val_acc: 0.7809\n",
            "Epoch 69/100\n",
            "23/23 [==============================] - 0s 4ms/step - loss: 0.6119 - acc: 0.8457 - val_loss: 0.6475 - val_acc: 0.7865\n",
            "Epoch 70/100\n",
            "23/23 [==============================] - 0s 5ms/step - loss: 0.6107 - acc: 0.8457 - val_loss: 0.6451 - val_acc: 0.7865\n",
            "Epoch 71/100\n",
            "23/23 [==============================] - 0s 5ms/step - loss: 0.6108 - acc: 0.8401 - val_loss: 0.6498 - val_acc: 0.7865\n",
            "Epoch 72/100\n",
            "23/23 [==============================] - 0s 4ms/step - loss: 0.6114 - acc: 0.8485 - val_loss: 0.6444 - val_acc: 0.7921\n",
            "Epoch 73/100\n",
            "23/23 [==============================] - 0s 4ms/step - loss: 0.6103 - acc: 0.8443 - val_loss: 0.6515 - val_acc: 0.7640\n",
            "Epoch 74/100\n",
            "23/23 [==============================] - 0s 4ms/step - loss: 0.6116 - acc: 0.8471 - val_loss: 0.6442 - val_acc: 0.7809\n",
            "Epoch 75/100\n",
            "23/23 [==============================] - 0s 4ms/step - loss: 0.6112 - acc: 0.8429 - val_loss: 0.6521 - val_acc: 0.7697\n",
            "Epoch 76/100\n",
            "23/23 [==============================] - 0s 5ms/step - loss: 0.6107 - acc: 0.8499 - val_loss: 0.6455 - val_acc: 0.7753\n",
            "Epoch 77/100\n",
            "23/23 [==============================] - 0s 4ms/step - loss: 0.6111 - acc: 0.8429 - val_loss: 0.6493 - val_acc: 0.7809\n",
            "Epoch 78/100\n",
            "23/23 [==============================] - 0s 5ms/step - loss: 0.6106 - acc: 0.8471 - val_loss: 0.6518 - val_acc: 0.7753\n",
            "Epoch 79/100\n",
            "23/23 [==============================] - 0s 4ms/step - loss: 0.6111 - acc: 0.8513 - val_loss: 0.6443 - val_acc: 0.7809\n",
            "Epoch 80/100\n",
            "23/23 [==============================] - 0s 4ms/step - loss: 0.6096 - acc: 0.8485 - val_loss: 0.6481 - val_acc: 0.7753\n",
            "Epoch 81/100\n",
            "23/23 [==============================] - 0s 4ms/step - loss: 0.6092 - acc: 0.8471 - val_loss: 0.6529 - val_acc: 0.7865\n",
            "Epoch 82/100\n",
            "23/23 [==============================] - 0s 4ms/step - loss: 0.6114 - acc: 0.8401 - val_loss: 0.6466 - val_acc: 0.7753\n",
            "Epoch 83/100\n",
            "23/23 [==============================] - 0s 4ms/step - loss: 0.6119 - acc: 0.8485 - val_loss: 0.6473 - val_acc: 0.7809\n",
            "Epoch 84/100\n",
            "23/23 [==============================] - 0s 4ms/step - loss: 0.6092 - acc: 0.8485 - val_loss: 0.6513 - val_acc: 0.7809\n",
            "Epoch 85/100\n",
            "23/23 [==============================] - 0s 5ms/step - loss: 0.6086 - acc: 0.8569 - val_loss: 0.6438 - val_acc: 0.7809\n",
            "Epoch 86/100\n",
            "23/23 [==============================] - 0s 4ms/step - loss: 0.6096 - acc: 0.8513 - val_loss: 0.6460 - val_acc: 0.7865\n",
            "Epoch 87/100\n",
            "23/23 [==============================] - 0s 4ms/step - loss: 0.6083 - acc: 0.8527 - val_loss: 0.6508 - val_acc: 0.7753\n",
            "Epoch 88/100\n",
            "23/23 [==============================] - 0s 5ms/step - loss: 0.6094 - acc: 0.8471 - val_loss: 0.6542 - val_acc: 0.7640\n",
            "Epoch 89/100\n",
            "23/23 [==============================] - 0s 4ms/step - loss: 0.6086 - acc: 0.8612 - val_loss: 0.6485 - val_acc: 0.7753\n",
            "Epoch 90/100\n",
            "23/23 [==============================] - 0s 5ms/step - loss: 0.6073 - acc: 0.8541 - val_loss: 0.6499 - val_acc: 0.7753\n",
            "Epoch 91/100\n",
            "23/23 [==============================] - 0s 4ms/step - loss: 0.6079 - acc: 0.8541 - val_loss: 0.6498 - val_acc: 0.7640\n",
            "Epoch 92/100\n",
            "23/23 [==============================] - 0s 4ms/step - loss: 0.6075 - acc: 0.8527 - val_loss: 0.6488 - val_acc: 0.7640\n",
            "Epoch 93/100\n",
            "23/23 [==============================] - 0s 4ms/step - loss: 0.6081 - acc: 0.8569 - val_loss: 0.6511 - val_acc: 0.7809\n",
            "Epoch 94/100\n",
            "23/23 [==============================] - 0s 4ms/step - loss: 0.6079 - acc: 0.8569 - val_loss: 0.6456 - val_acc: 0.7753\n",
            "Epoch 95/100\n",
            "23/23 [==============================] - 0s 4ms/step - loss: 0.6083 - acc: 0.8569 - val_loss: 0.6504 - val_acc: 0.7809\n",
            "Epoch 96/100\n",
            "23/23 [==============================] - 0s 4ms/step - loss: 0.6081 - acc: 0.8527 - val_loss: 0.6511 - val_acc: 0.7697\n",
            "Epoch 97/100\n",
            "23/23 [==============================] - 0s 4ms/step - loss: 0.6077 - acc: 0.8583 - val_loss: 0.6505 - val_acc: 0.7640\n",
            "Epoch 98/100\n",
            "23/23 [==============================] - 0s 4ms/step - loss: 0.6084 - acc: 0.8499 - val_loss: 0.6521 - val_acc: 0.7697\n",
            "Epoch 99/100\n",
            "23/23 [==============================] - 0s 4ms/step - loss: 0.6072 - acc: 0.8541 - val_loss: 0.6486 - val_acc: 0.7809\n",
            "Epoch 100/100\n",
            "23/23 [==============================] - 0s 4ms/step - loss: 0.6075 - acc: 0.8555 - val_loss: 0.6519 - val_acc: 0.7753\n"
          ],
          "name": "stdout"
        }
      ]
    },
    {
      "cell_type": "markdown",
      "metadata": {
        "id": "vHRl06H87Jpo",
        "colab_type": "text"
      },
      "source": [
        "### 把上述最优解的参数来训练最优模型\n",
        "\n",
        "Finally, we can train the best model configuration from scratch for the optimal number of epochs.\n",
        "\n",
        "This time, we train on the entirety of the training data -- no validation split. Our model parameters are already validated."
      ]
    },
    {
      "cell_type": "code",
      "metadata": {
        "trusted": true,
        "id": "0q4etmbI7Jpo",
        "colab_type": "code",
        "colab": {
          "base_uri": "https://localhost:8080/",
          "height": 1000
        },
        "outputId": "e9174720-5730-438d-9b07-33e692b98909"
      },
      "source": [
        "val_acc_per_epoch = history.history['val_acc']\n",
        "best_epoch = val_acc_per_epoch.index(max(val_acc_per_epoch)) + 1\n",
        "print('Best epoch: %d' % (best_epoch,))\n",
        "model = make_model(best_hp)\n",
        "model.fit(full_train_ds, epochs=best_epoch)"
      ],
      "execution_count": 22,
      "outputs": [
        {
          "output_type": "stream",
          "text": [
            "Best epoch: 30\n",
            "Model: \"functional_5\"\n",
            "__________________________________________________________________________________________________\n",
            "Layer (type)                    Output Shape         Param #     Connected to                     \n",
            "==================================================================================================\n",
            "Pclass (InputLayer)             [(None, 1)]          0                                            \n",
            "__________________________________________________________________________________________________\n",
            "SibSp (InputLayer)              [(None, 1)]          0                                            \n",
            "__________________________________________________________________________________________________\n",
            "Parch (InputLayer)              [(None, 1)]          0                                            \n",
            "__________________________________________________________________________________________________\n",
            "Sex (InputLayer)                [(None, 1)]          0                                            \n",
            "__________________________________________________________________________________________________\n",
            "Age (InputLayer)                [(None, 1)]          0                                            \n",
            "__________________________________________________________________________________________________\n",
            "Fare (InputLayer)               [(None, 1)]          0                                            \n",
            "__________________________________________________________________________________________________\n",
            "integer_lookup (IntegerLookup)  (None, 1)            0           Pclass[0][0]                     \n",
            "__________________________________________________________________________________________________\n",
            "integer_lookup_1 (IntegerLookup (None, 1)            0           SibSp[0][0]                      \n",
            "__________________________________________________________________________________________________\n",
            "integer_lookup_2 (IntegerLookup (None, 1)            0           Parch[0][0]                      \n",
            "__________________________________________________________________________________________________\n",
            "string_lookup (StringLookup)    (None, 1)            0           Sex[0][0]                        \n",
            "__________________________________________________________________________________________________\n",
            "normalization (Normalization)   (None, 1)            3           Age[0][0]                        \n",
            "__________________________________________________________________________________________________\n",
            "normalization_1 (Normalization) (None, 1)            3           Fare[0][0]                       \n",
            "__________________________________________________________________________________________________\n",
            "category_encoding (CategoryEnco (None, 5)            1           integer_lookup[0][0]             \n",
            "__________________________________________________________________________________________________\n",
            "category_encoding_1 (CategoryEn (None, 8)            1           integer_lookup_1[0][0]           \n",
            "__________________________________________________________________________________________________\n",
            "category_encoding_2 (CategoryEn (None, 7)            1           integer_lookup_2[0][0]           \n",
            "__________________________________________________________________________________________________\n",
            "category_encoding_3 (CategoryEn (None, 4)            1           string_lookup[0][0]              \n",
            "__________________________________________________________________________________________________\n",
            "concatenate (Concatenate)       (None, 26)           0           normalization[0][0]              \n",
            "                                                                 normalization_1[0][0]            \n",
            "                                                                 category_encoding[0][0]          \n",
            "                                                                 category_encoding_1[0][0]        \n",
            "                                                                 category_encoding_2[0][0]        \n",
            "                                                                 category_encoding_3[0][0]        \n",
            "__________________________________________________________________________________________________\n",
            "dense_6 (Dense)                 (None, 144)          3888        concatenate[0][0]                \n",
            "__________________________________________________________________________________________________\n",
            "dense_7 (Dense)                 (None, 216)          31320       dense_6[0][0]                    \n",
            "__________________________________________________________________________________________________\n",
            "dense_8 (Dense)                 (None, 1)            217         dense_7[0][0]                    \n",
            "==================================================================================================\n",
            "Total params: 35,435\n",
            "Trainable params: 35,425\n",
            "Non-trainable params: 10\n",
            "__________________________________________________________________________________________________\n",
            "Epoch 1/30\n",
            "28/28 [==============================] - 0s 4ms/step - loss: 0.7080 - acc: 0.6274\n",
            "Epoch 2/30\n",
            "28/28 [==============================] - 0s 3ms/step - loss: 0.6545 - acc: 0.7464\n",
            "Epoch 3/30\n",
            "28/28 [==============================] - 0s 3ms/step - loss: 0.6358 - acc: 0.7879\n",
            "Epoch 4/30\n",
            "28/28 [==============================] - 0s 3ms/step - loss: 0.6292 - acc: 0.7980\n",
            "Epoch 5/30\n",
            "28/28 [==============================] - 0s 3ms/step - loss: 0.6264 - acc: 0.8081\n",
            "Epoch 6/30\n",
            "28/28 [==============================] - 0s 3ms/step - loss: 0.6245 - acc: 0.8126\n",
            "Epoch 7/30\n",
            "28/28 [==============================] - 0s 4ms/step - loss: 0.6239 - acc: 0.8114\n",
            "Epoch 8/30\n",
            "28/28 [==============================] - 0s 4ms/step - loss: 0.6227 - acc: 0.8137\n",
            "Epoch 9/30\n",
            "28/28 [==============================] - 0s 3ms/step - loss: 0.6225 - acc: 0.8159\n",
            "Epoch 10/30\n",
            "28/28 [==============================] - 0s 4ms/step - loss: 0.6216 - acc: 0.8148\n",
            "Epoch 11/30\n",
            "28/28 [==============================] - 0s 3ms/step - loss: 0.6214 - acc: 0.8148\n",
            "Epoch 12/30\n",
            "28/28 [==============================] - 0s 3ms/step - loss: 0.6215 - acc: 0.8249\n",
            "Epoch 13/30\n",
            "28/28 [==============================] - 0s 3ms/step - loss: 0.6211 - acc: 0.8159\n",
            "Epoch 14/30\n",
            "28/28 [==============================] - 0s 3ms/step - loss: 0.6209 - acc: 0.8182\n",
            "Epoch 15/30\n",
            "28/28 [==============================] - 0s 3ms/step - loss: 0.6208 - acc: 0.8137\n",
            "Epoch 16/30\n",
            "28/28 [==============================] - 0s 3ms/step - loss: 0.6224 - acc: 0.8316\n",
            "Epoch 17/30\n",
            "28/28 [==============================] - 0s 3ms/step - loss: 0.6204 - acc: 0.8249\n",
            "Epoch 18/30\n",
            "28/28 [==============================] - 0s 3ms/step - loss: 0.6209 - acc: 0.8227\n",
            "Epoch 19/30\n",
            "28/28 [==============================] - 0s 3ms/step - loss: 0.6203 - acc: 0.8294\n",
            "Epoch 20/30\n",
            "28/28 [==============================] - 0s 3ms/step - loss: 0.6200 - acc: 0.8148\n",
            "Epoch 21/30\n",
            "28/28 [==============================] - 0s 3ms/step - loss: 0.6202 - acc: 0.8249\n",
            "Epoch 22/30\n",
            "28/28 [==============================] - 0s 3ms/step - loss: 0.6177 - acc: 0.8215\n",
            "Epoch 23/30\n",
            "28/28 [==============================] - 0s 3ms/step - loss: 0.6177 - acc: 0.8272\n",
            "Epoch 24/30\n",
            "28/28 [==============================] - 0s 3ms/step - loss: 0.6172 - acc: 0.8260\n",
            "Epoch 25/30\n",
            "28/28 [==============================] - 0s 3ms/step - loss: 0.6171 - acc: 0.8339\n",
            "Epoch 26/30\n",
            "28/28 [==============================] - 0s 3ms/step - loss: 0.6168 - acc: 0.8339\n",
            "Epoch 27/30\n",
            "28/28 [==============================] - 0s 3ms/step - loss: 0.6177 - acc: 0.8227\n",
            "Epoch 28/30\n",
            "28/28 [==============================] - 0s 3ms/step - loss: 0.6192 - acc: 0.8350\n",
            "Epoch 29/30\n",
            "28/28 [==============================] - 0s 4ms/step - loss: 0.6171 - acc: 0.8316\n",
            "Epoch 30/30\n",
            "28/28 [==============================] - 0s 3ms/step - loss: 0.6179 - acc: 0.8316\n"
          ],
          "name": "stdout"
        },
        {
          "output_type": "execute_result",
          "data": {
            "text/plain": [
              "<tensorflow.python.keras.callbacks.History at 0x7f21f2cf6668>"
            ]
          },
          "metadata": {
            "tags": []
          },
          "execution_count": 22
        }
      ]
    },
    {
      "cell_type": "markdown",
      "metadata": {
        "id": "34AKbjlrtyYV",
        "colab_type": "text"
      },
      "source": [
        "### 用模型预测结果"
      ]
    },
    {
      "cell_type": "code",
      "metadata": {
        "trusted": true,
        "id": "Ju-vN8Be7Jpq",
        "colab_type": "code",
        "colab": {}
      },
      "source": [
        "#用模型预测测试集的结果\n",
        "predictions = model.predict(test_ds)"
      ],
      "execution_count": 23,
      "outputs": []
    },
    {
      "cell_type": "markdown",
      "metadata": {
        "id": "kvwicAoet1VY",
        "colab_type": "text"
      },
      "source": [
        "### 将结果弄成DF"
      ]
    },
    {
      "cell_type": "code",
      "metadata": {
        "id": "J_dc9SXFs6KL",
        "colab_type": "code",
        "colab": {}
      },
      "source": [
        "\n",
        "passenger_ids = test_dataframe.pop(\"PassengerId\")\n",
        "submission = pd.DataFrame({\"PassengerId\": passenger_ids,\n",
        "                           \"Survived\": np.ravel(np.round(predictions))})"
      ],
      "execution_count": 24,
      "outputs": []
    },
    {
      "cell_type": "code",
      "metadata": {
        "id": "gmGPVRn38zPZ",
        "colab_type": "code",
        "colab": {
          "base_uri": "https://localhost:8080/",
          "height": 195
        },
        "outputId": "8f8cac75-3bcb-4800-9e6f-1cd61a9e1c7e"
      },
      "source": [
        "#发现target不是int\n",
        "submission.head()"
      ],
      "execution_count": 25,
      "outputs": [
        {
          "output_type": "execute_result",
          "data": {
            "text/html": [
              "<div>\n",
              "<style scoped>\n",
              "    .dataframe tbody tr th:only-of-type {\n",
              "        vertical-align: middle;\n",
              "    }\n",
              "\n",
              "    .dataframe tbody tr th {\n",
              "        vertical-align: top;\n",
              "    }\n",
              "\n",
              "    .dataframe thead th {\n",
              "        text-align: right;\n",
              "    }\n",
              "</style>\n",
              "<table border=\"1\" class=\"dataframe\">\n",
              "  <thead>\n",
              "    <tr style=\"text-align: right;\">\n",
              "      <th></th>\n",
              "      <th>PassengerId</th>\n",
              "      <th>Survived</th>\n",
              "    </tr>\n",
              "  </thead>\n",
              "  <tbody>\n",
              "    <tr>\n",
              "      <th>0</th>\n",
              "      <td>892</td>\n",
              "      <td>0.0</td>\n",
              "    </tr>\n",
              "    <tr>\n",
              "      <th>1</th>\n",
              "      <td>893</td>\n",
              "      <td>0.0</td>\n",
              "    </tr>\n",
              "    <tr>\n",
              "      <th>2</th>\n",
              "      <td>894</td>\n",
              "      <td>0.0</td>\n",
              "    </tr>\n",
              "    <tr>\n",
              "      <th>3</th>\n",
              "      <td>895</td>\n",
              "      <td>0.0</td>\n",
              "    </tr>\n",
              "    <tr>\n",
              "      <th>4</th>\n",
              "      <td>896</td>\n",
              "      <td>0.0</td>\n",
              "    </tr>\n",
              "  </tbody>\n",
              "</table>\n",
              "</div>"
            ],
            "text/plain": [
              "   PassengerId  Survived\n",
              "0          892       0.0\n",
              "1          893       0.0\n",
              "2          894       0.0\n",
              "3          895       0.0\n",
              "4          896       0.0"
            ]
          },
          "metadata": {
            "tags": []
          },
          "execution_count": 25
        }
      ]
    },
    {
      "cell_type": "code",
      "metadata": {
        "id": "65NkPTf-82nk",
        "colab_type": "code",
        "colab": {
          "base_uri": "https://localhost:8080/",
          "height": 195
        },
        "outputId": "a7e22225-c5e7-4e99-ed9f-f79fa4b9cbf7"
      },
      "source": [
        "#化为整数\n",
        "submission['Survived']=submission.Survived.astype(int)\n",
        "submission.head()"
      ],
      "execution_count": 26,
      "outputs": [
        {
          "output_type": "execute_result",
          "data": {
            "text/html": [
              "<div>\n",
              "<style scoped>\n",
              "    .dataframe tbody tr th:only-of-type {\n",
              "        vertical-align: middle;\n",
              "    }\n",
              "\n",
              "    .dataframe tbody tr th {\n",
              "        vertical-align: top;\n",
              "    }\n",
              "\n",
              "    .dataframe thead th {\n",
              "        text-align: right;\n",
              "    }\n",
              "</style>\n",
              "<table border=\"1\" class=\"dataframe\">\n",
              "  <thead>\n",
              "    <tr style=\"text-align: right;\">\n",
              "      <th></th>\n",
              "      <th>PassengerId</th>\n",
              "      <th>Survived</th>\n",
              "    </tr>\n",
              "  </thead>\n",
              "  <tbody>\n",
              "    <tr>\n",
              "      <th>0</th>\n",
              "      <td>892</td>\n",
              "      <td>0</td>\n",
              "    </tr>\n",
              "    <tr>\n",
              "      <th>1</th>\n",
              "      <td>893</td>\n",
              "      <td>0</td>\n",
              "    </tr>\n",
              "    <tr>\n",
              "      <th>2</th>\n",
              "      <td>894</td>\n",
              "      <td>0</td>\n",
              "    </tr>\n",
              "    <tr>\n",
              "      <th>3</th>\n",
              "      <td>895</td>\n",
              "      <td>0</td>\n",
              "    </tr>\n",
              "    <tr>\n",
              "      <th>4</th>\n",
              "      <td>896</td>\n",
              "      <td>0</td>\n",
              "    </tr>\n",
              "  </tbody>\n",
              "</table>\n",
              "</div>"
            ],
            "text/plain": [
              "   PassengerId  Survived\n",
              "0          892         0\n",
              "1          893         0\n",
              "2          894         0\n",
              "3          895         0\n",
              "4          896         0"
            ]
          },
          "metadata": {
            "tags": []
          },
          "execution_count": 26
        }
      ]
    },
    {
      "cell_type": "markdown",
      "metadata": {
        "id": "yqS_YwMAtlsa",
        "colab_type": "text"
      },
      "source": [
        "### 把DF输出为csv提交文件"
      ]
    },
    {
      "cell_type": "code",
      "metadata": {
        "id": "jJvYWeSyBof6",
        "colab_type": "code",
        "colab": {}
      },
      "source": [
        "submission.to_csv(\"submission.csv\", index=False)"
      ],
      "execution_count": 27,
      "outputs": []
    }
  ]
}